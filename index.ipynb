{
 "cells": [
  {
   "cell_type": "markdown",
   "metadata": {},
   "source": [
    "# Ice-age dynamics\n",
    "----\n",
    "*Georg Kaufmann,\n",
    "Geophysics Section,\n",
    "Institute of Geological Sciences,\n",
    "Freie Universität Berlin,\n",
    "Germany*\n",
    "\n",
    "**Additional jupyter notebooks for lecture**\n",
    "\n",
    "Chapters:\n",
    "\n",
    "- [Ice-age dynamics: Chapter 3: Dating](IceDyn_chap03.ipynb)\n",
    "- [Ice-age dynamics: Chapter 4: Paleo-climate](IceDyn_chap04.ipynb)\n",
    "- [Ice-age dynamics: Chapter 5: Earth orbit (sinus)](IceDyn_chap05_1_sinus.ipynb)\n",
    "- [Ice-age dynamics: Chapter 5: Earth orbit (simpleice)](IceDyn_chap05_2_icevolume.ipynb)\n",
    "- [Ice-age dynamics: Chapter 6: Ice sheets](IceDyn_chap06_1_simpleice.ipynb)"
   ]
  }
 ],
 "metadata": {
  "kernelspec": {
   "display_name": "Python 3",
   "language": "python",
   "name": "python3"
  },
  "language_info": {
   "codemirror_mode": {
    "name": "ipython",
    "version": 3
   },
   "file_extension": ".py",
   "mimetype": "text/x-python",
   "name": "python",
   "nbconvert_exporter": "python",
   "pygments_lexer": "ipython3",
   "version": "3.4.8"
  }
 },
 "nbformat": 4,
 "nbformat_minor": 0
}
