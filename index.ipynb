{
 "cells": [
  {
   "cell_type": "markdown",
   "metadata": {},
   "source": [
    "<table>\n",
    "<tr><td><img style=\"height: 150px;\" src=\"images/geo_hydro1.jpg\"></td>\n",
    "<td bgcolor=\"#FFFFFF\">\n",
    "    <p style=\"font-size: xx-large; font-weight: 900; line-height: 100%\">AG Dynamics of the Earth</p>\n",
    "    <p style=\"font-size: large; color: rgba(0,0,0,0.5);\">Juypter notebooks</p>\n",
    "    <p style=\"font-size: large; color: rgba(0,0,0,0.5);\">Georg Kaufmann</p>\n",
    "    </td>\n",
    "</tr>\n",
    "</table>"
   ]
  },
  {
   "cell_type": "markdown",
   "metadata": {},
   "source": [
    "# Ice-age dynamics\n",
    "----\n",
    "*Georg Kaufmann,\n",
    "Geophysics Section,\n",
    "Institute of Geological Sciences,\n",
    "Freie Universität Berlin,\n",
    "Germany*\n",
    "\n",
    "**Additional jupyter notebooks for lecture**\n",
    "\n",
    "Chapters:\n",
    "\n",
    "- [Ice-age dynamics: Chapter 1: Basic python](IceDyn_chap01_intro.ipynb)\n",
    "- [Ice-age dynamics: Chapter 2: Random numbers](IceDyn_chap02_random.ipynb)\n",
    "- [Ice-age dynamics: Chapter 2: Simple integration](IceDyn_chap02_simpleintegration.ipynb)\n",
    "- [Ice-age dynamics: Chapter 3: Dating](IceDyn_chap03.ipynb)\n",
    "- [Ice-age dynamics: Chapter 4: Paleo-climate](IceDyn_chap04.ipynb)\n",
    "- [Ice-age dynamics: Chapter 5: Earth orbit (sinus)](IceDyn_chap05_1_sinus.ipynb)\n",
    "- [Ice-age dynamics: Chapter 5: Earth orbit (simpleice)](IceDyn_chap05_2_icevolume.ipynb)\n",
    "- [Ice-age dynamics: Chapter 6: Ice sheets](IceDyn_chap06_1_simpleice.ipynb)\n",
    "- [Ice-age dynamics: Chapter 7: Sea level](IceDyn_chap07_sealevel.ipynb)\n",
    "- [Ice-age dynamics: Chapter 8: Landscape](IceDyn_chap08_landscape.ipynb)"
   ]
  },
  {
   "cell_type": "code",
   "execution_count": null,
   "metadata": {},
   "outputs": [],
   "source": []
  }
 ],
 "metadata": {
  "kernelspec": {
   "display_name": "Python 3",
   "language": "python",
   "name": "python3"
  },
  "language_info": {
   "codemirror_mode": {
    "name": "ipython",
    "version": 3
   },
   "file_extension": ".py",
   "mimetype": "text/x-python",
   "name": "python",
   "nbconvert_exporter": "python",
   "pygments_lexer": "ipython3",
   "version": "3.7.3"
  }
 },
 "nbformat": 4,
 "nbformat_minor": 1
}
