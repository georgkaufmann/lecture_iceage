{
 "cells": [
  {
   "cell_type": "markdown",
   "metadata": {},
   "source": [
    "<table>\n",
    "<tr><td><img style=\"height: 150px;\" src=\"images/geo_hydro1.jpg\"></td>\n",
    "<td bgcolor=\"#FFFFFF\">\n",
    "    <p style=\"font-size: xx-large; font-weight: 900; line-height: 100%\">AG Dynamics of the Earth</p>\n",
    "    <p style=\"font-size: large; color: rgba(0,0,0,0.5);\">Jupyter notebooks</p>\n",
    "    <p style=\"font-size: large; color: rgba(0,0,0,0.5);\">Georg Kaufmann</p>\n",
    "    </td>\n",
    "</tr>\n",
    "</table>"
   ]
  },
  {
   "cell_type": "markdown",
   "metadata": {},
   "source": [
    "# Ice-age dynamics: 9. Landscape\n",
    "## Diffusion (weathering, slope wash)\n",
    "----\n",
    "*Georg Kaufmann,\n",
    "Geophysics Section,\n",
    "Institute of Geological Sciences,\n",
    "Freie Universität Berlin,\n",
    "Germany*"
   ]
  },
  {
   "cell_type": "markdown",
   "metadata": {},
   "source": [
    "In this notebook, we model **weathering** and **slope wash**, both regarded as *short-scale processes*,\n",
    "with a **diffusion equation**.\n",
    "\n",
    "We first initialize the `python` libraries."
   ]
  },
  {
   "cell_type": "code",
   "execution_count": null,
   "metadata": {},
   "outputs": [],
   "source": [
    "import numpy as np\n",
    "import matplotlib.pyplot as plt\n",
    "import ipywidgets as widgets"
   ]
  },
  {
   "cell_type": "markdown",
   "metadata": {},
   "source": [
    "## Model\n",
    "\n",
    "The change in elevation $\\frac{\\partial h}{\\partial t}$ is modelled as diffusion equation, \n",
    "thus the change depends on the second spatial derivative of the elevation, $\\nabla^2 h$.\n",
    "\n",
    "$$\n",
    "\\begin{array}{rcl}\n",
    "  \\left( \\frac{\\partial h}{\\partial t} \\right)_{diffusion} & = & \\kappa_D \\nabla^2 h \\\\\n",
    " \\kappa_D                                                        & = & u_D h_D\n",
    "\\end{array}\n",
    "$$\n",
    "\n",
    "The **diffusivity** $\\kappa_D$ controls the diffusion response.\n",
    "\n",
    "| variable       | name            |unit       |\n",
    "|----------------|-----------------|-----------|\n",
    "| $h$            | surface         | [m]       |\n",
    "| $t$            | time            | [s]       |\n",
    "| $\\nabla$       | Nabla operator  | [1/m]     |\n",
    "| $\\kappa_D$     | Diffusivity     | [m$^2$/s] |\n",
    "| **Climate**    | -               | -         |\n",
    "| $h_D$          | soil thickness  | [m]       |\n",
    "| **Lithology**  | -               | -         |\n",
    "| $u_D$          | soil velocity   | [m/s]     |"
   ]
  },
  {
   "cell_type": "markdown",
   "metadata": {},
   "source": [
    "## Control parameter values"
   ]
  },
  {
   "cell_type": "code",
   "execution_count": null,
   "metadata": {},
   "outputs": [],
   "source": [
    "endtime  = 5.e5            # yr          ! total runtime\n",
    "dtime    = 1.e2            # yr          ! time increment\n",
    "dtsave   = 1.e5            # yr          ! saving interval\n",
    "length   = 100.e3          # m           ! length of profile\n",
    "hmin     = 0.              # m           ! min. topography\n",
    "hmax     = 1000.           # m           ! max. topography\n",
    "uplift   = 0.e-3           # m/s         ! uplift rate\n",
    "xkd      = 2.e2            # m^2/yr      ! diffusion constant"
   ]
  },
  {
   "cell_type": "markdown",
   "metadata": {},
   "source": [
    "## Create grid and initial topography\n",
    "\n",
    "We first need to rewrite the **differential equation** into one dimensions...\n",
    "$$\n",
    "\\frac{h(t_i)-h(t_{i-1})}{\\Delta t} = \\kappa_D \\frac{\\partial^2 h}{\\partial x^2}\n",
    "$$\n",
    ".. then into **finite differences**...\n",
    "$$\n",
    "\\frac{h(t_i)-h(t_{i-1})}{\\Delta t} =  \\frac{1}{\\Delta x}\n",
    "\\left( \\kappa_D \\frac{h_{i+1}-h_{i}}{dx} - \\kappa_D \\frac{h_{i}-h_{i-1}}{dx} \\right)\n",
    "$$\n",
    "... and finally\n",
    "$$\n",
    "h(t_i) = h(t_{i-1}) + \\frac{1}{\\Delta x}\n",
    "\\left( \\kappa_D \\frac{h_{i+1}-h_{i}}{dx} - \\kappa_D \\frac{h_{i}-h_{i-1}}{dx} \\right) \\Delta t\n",
    "$$"
   ]
  },
  {
   "cell_type": "code",
   "execution_count": null,
   "metadata": {},
   "outputs": [],
   "source": [
    "def diffusion_init(nx,length,hmin,hmax):\n",
    "    \"\"\"\n",
    "    function creates an initial 1D topography\n",
    "    over profile length\n",
    "    with hmin and hmax as extreme values\n",
    "    \"\"\"\n",
    "    x    = np.linspace(0,length,nx)\n",
    "    h = np.zeros(nx)\n",
    "    h[x <= 0.4*length] = hmin + (hmax-hmin)*x[x <= 0.4*length] / (0.4*length)\n",
    "    h[x >  0.4*length] = hmin + (hmax-hmin)*(length-x[x >  0.4*length]) / (length-0.4*length)\n",
    "\n",
    "    tsave = np.zeros(10)\n",
    "    topo = np.zeros(10*nx).reshape(10,nx)\n",
    "    tsave[0] = 0.\n",
    "    topo[0,:] = h\n",
    "    print(tsave.shape)\n",
    "    print(topo.shape)\n",
    "    return x,h,tsave,topo\n",
    "\n",
    "nx = 101\n",
    "x,h,tsave,topo = diffusion_init(nx,length,hmin,hmax)"
   ]
  },
  {
   "cell_type": "code",
   "execution_count": null,
   "metadata": {},
   "outputs": [],
   "source": [
    "plt.figure(figsize=(12,6))\n",
    "plt.xlim([0,length/1000])\n",
    "plt.ylim([-10,1100])\n",
    "plt.xlabel('Profile [km]')\n",
    "plt.ylabel('Elevation [m]')\n",
    "plt.fill_between(x/1000,-10,topo[0,:],color='gray',alpha=0.6,label=str(int(tsave[0]/1000))+' ka')\n",
    "plt.legend()"
   ]
  },
  {
   "cell_type": "markdown",
   "metadata": {},
   "source": [
    "----\n",
    "## No uplift, temporal evolution"
   ]
  },
  {
   "cell_type": "code",
   "execution_count": null,
   "metadata": {},
   "outputs": [],
   "source": [
    "def diffusion_loop(nx,dtime,dtsave,endtime,uplift,length,xkd,x,h,tsave,topo):\n",
    "    \"\"\"\n",
    "    function applies short-range processes via a 1D diffusion equation\n",
    "    over a given time window endtime, distretised into dtime intervals\n",
    "    \"\"\"\n",
    "    dh = np.zeros(nx)\n",
    "    dx = x[1] - x[0]\n",
    "    time = 0.\n",
    "    save = dtsave\n",
    "    isave = 0\n",
    "\n",
    "    while time < endtime:\n",
    "        # loop over time\n",
    "        time = time + dtime\n",
    "        # apply uplift\n",
    "        h[x <= 0.4*length] = h[x <= 0.4*length] + uplift*dtime*x[x <= 0.4*length] / (0.4*length)\n",
    "        h[x >  0.4*length] = h[x >  0.4*length] + uplift*dtime*(length-x[x >  0.4*length]) / (length-0.4*length)\n",
    "        # apply diffusion\n",
    "        for ij in range(1,nx-1):\n",
    "            dh[ij] = (((xkd * (h[ij+1]-h[ij]))/dx \n",
    "                      -(xkd * (h[ij]-h[ij-1]))/dx ) / dx )*dtime\n",
    "        h = h + dh\n",
    "        # save intermediate time step\n",
    "        if (time==save):\n",
    "            print(save)\n",
    "            isave = isave + 1\n",
    "            topo[isave,:] = h\n",
    "            tsave[isave]  = time\n",
    "            save = save + dtsave\n",
    "    return isave,tsave,topo\n",
    "\n",
    "isave,tsave,topo = diffusion_loop(nx,dtime,dtsave,endtime,uplift,length,xkd,x,h,tsave,topo)"
   ]
  },
  {
   "cell_type": "code",
   "execution_count": null,
   "metadata": {},
   "outputs": [],
   "source": [
    "plt.figure(figsize=(12,6))\n",
    "plt.xlim([0,length/1000])\n",
    "plt.ylim([-10,1100])\n",
    "plt.xlabel('Profile [km]')\n",
    "plt.ylabel('Elevation [m]')\n",
    "plt.fill_between(x/1000,-10,topo[isave,:],color='gray',alpha=0.6,label=str(int(tsave[isave]/1000))+' ka')\n",
    "for i in range(isave-1):\n",
    "    plt.plot(x/1000,topo[i,:],color='black',linestyle='-',label=str(int(tsave[i]/1000))+' ka')\n",
    "plt.legend()"
   ]
  },
  {
   "cell_type": "markdown",
   "metadata": {},
   "source": [
    "----\n",
    "## Uplift, temporal evolution"
   ]
  },
  {
   "cell_type": "code",
   "execution_count": null,
   "metadata": {},
   "outputs": [],
   "source": [
    "endtime  = 5.e5            # yr          ! total runtime\n",
    "dtime    = 1.e2            # yr          ! time increment\n",
    "dtsave   = 1.e5            # yr          ! saving interval\n",
    "length   = 100.e3          # m           ! length of profile\n",
    "hmin     = 0.              # m           ! min. topography\n",
    "hmax     = 100.            # m           ! max. topography\n",
    "uplift   = 2.e-3           # m/s         ! uplift rate\n",
    "xkd      = 2.e2            # m^2/yr      ! diffusion constant\n",
    "\n",
    "x,h,tsave,topo = diffusion_init(nx,length,hmin,hmax)\n",
    "isave,tsave,topo = diffusion_loop(nx,dtime,dtsave,endtime,uplift,length,xkd,x,h,tsave,topo)\n",
    "\n",
    "plt.figure(figsize=(12,6))\n",
    "plt.xlim([0,length/1000])\n",
    "plt.ylim([-10,1100])\n",
    "plt.xlabel('Profile [km]')\n",
    "plt.ylabel('Elevation [m]')\n",
    "plt.fill_between(x/1000,-10,topo[isave,:],color='gray',alpha=0.6,label=str(int(tsave[isave]/1000))+' ka')\n",
    "for i in range(isave-1):\n",
    "    plt.plot(x/1000,topo[i,:],color='black',linestyle='-',label=str(int(tsave[i]/1000))+' ka')\n",
    "plt.legend()"
   ]
  },
  {
   "cell_type": "markdown",
   "metadata": {},
   "source": [
    "... done"
   ]
  }
 ],
 "metadata": {
  "kernelspec": {
   "display_name": "Python 3",
   "language": "python",
   "name": "python3"
  },
  "language_info": {
   "codemirror_mode": {
    "name": "ipython",
    "version": 3
   },
   "file_extension": ".py",
   "mimetype": "text/x-python",
   "name": "python",
   "nbconvert_exporter": "python",
   "pygments_lexer": "ipython3",
   "version": "3.7.3"
  }
 },
 "nbformat": 4,
 "nbformat_minor": 1
}
