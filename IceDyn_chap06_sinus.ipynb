{
 "cells": [
  {
   "cell_type": "markdown",
   "metadata": {},
   "source": [
    "<table>\n",
    "<tr><td><img style=\"height: 150px;\" src=\"images/geo_hydro1.jpg\"></td>\n",
    "<td bgcolor=\"#FFFFFF\">\n",
    "    <p style=\"font-size: xx-large; font-weight: 900; line-height: 100%\">AG Dynamics of the Earth</p>\n",
    "    <p style=\"font-size: large; color: rgba(0,0,0,0.5);\">Juypter notebooks</p>\n",
    "    <p style=\"font-size: large; color: rgba(0,0,0,0.5);\">Georg Kaufmann</p>\n",
    "    </td>\n",
    "</tr>\n",
    "</table>"
   ]
  },
  {
   "cell_type": "markdown",
   "metadata": {},
   "source": [
    "# Ice-age dynamics: Earth Orbit\n",
    "----\n",
    "*Georg Kaufmann,\n",
    "Geophysics Section,\n",
    "Institute of Geological Sciences,\n",
    "Freie Universität Berlin,\n",
    "Germany*"
   ]
  },
  {
   "cell_type": "markdown",
   "metadata": {},
   "source": [
    "In this notebook, we play with simple **harmonic** functions, creating an artifical climate time series,\n",
    "and we look at the spectrum of our time series, using `python`.\n",
    "\n",
    "We first initialize the `python` libraries."
   ]
  },
  {
   "cell_type": "code",
   "execution_count": null,
   "metadata": {},
   "outputs": [],
   "source": [
    "%matplotlib inline\n",
    "import numpy as np\n",
    "import matplotlib.pyplot as plt\n",
    "import ipywidgets as widgets"
   ]
  },
  {
   "cell_type": "markdown",
   "metadata": {},
   "source": [
    "## Simple sinus-functions\n",
    "\n",
    "Definition of *Fourier series* with sine and cosine functions:\n",
    "$$\n",
    " f(t) = \\sum\\limits_{m=0}^{\\infty} \n",
    "        \\left(  \n",
    "        a_m \\cos \\frac{\\displaystyle 2\\pi m t}{\\displaystyle T}\n",
    "       +b_m \\sin \\frac{\\displaystyle 2\\pi m t}{\\displaystyle T}\n",
    "        \\right)\n",
    "$$\n",
    "$m$ is the iteration counter, $t$ time, $T$ the period, \n",
    "and $a_m$ and $b_m$ are the amplitudes.\n",
    "\n",
    "In the example below, we use $m=1$ and only sine functions:\n",
    "$$\n",
    "\\begin{array}{rcl}\n",
    "f(t) & = & a_1\\times \\sin\\left( \\frac{\\displaystyle 2\\pi t}{\\displaystyle T_{100,000}} \\right) \\\\\n",
    "     & + & a_2\\times \\sin\\left( \\frac{\\displaystyle 2\\pi t}{\\displaystyle T_{41,000}} \\right) \\\\\n",
    "     & + & a_3\\times \\sin\\left( \\frac{\\displaystyle 2\\pi t}{\\displaystyle T_{23,000}} \\right) \\\\\n",
    "     & + & a_4\\times \\sin\\left( \\frac{\\displaystyle 2\\pi t}{\\displaystyle T_{19,000}} \\right)\n",
    "\\end{array}\n",
    "$$\n",
    "\n",
    "We first define four frequencies, four amplitudes, and the time range.\n",
    "\n",
    "Then, empty arrays for time and sinus functions are initialised, filled with zeros, using the\n",
    "`zeros` function from `numpy`.\n",
    "\n",
    "Then, a loop filling the sinus functions with the initial values defined above is run.\n",
    "\n"
   ]
  },
  {
   "cell_type": "code",
   "execution_count": null,
   "metadata": {},
   "outputs": [],
   "source": [
    "# define frequencies\n",
    "f1 = 100000.; a1 = 1.0 # eccentricity\n",
    "f2 =  41000.; a2 = 1.0 # obliquity\n",
    "f3 =  23000.; a3 = 1.0 # precession\n",
    "f4 =  19000.; a4 = 1.0 # precession\n",
    "# timing\n",
    "tmin  = -800000\n",
    "tmax  = 0\n",
    "tstep = 500\n",
    "nmax  = int((tmax-tmin) / tstep)+1\n",
    "\n",
    "#-----------------------------------------------------------------------\n",
    "# create time series\n",
    "#-----------------------------------------------------------------------\n",
    "time = np.zeros(nmax);sin0 = np.zeros(nmax)\n",
    "sin1 = np.zeros(nmax);sin2 = np.zeros(nmax)\n",
    "sin3 = np.zeros(nmax);sin4 = np.zeros(nmax)\n",
    "i=0\n",
    "for t in np.arange(tmin,tmax+tstep,tstep):\n",
    "    time[i] = t\n",
    "    sin1[i] = np.sin(2.*np.pi*t/f1)\n",
    "    sin2[i] = np.sin(2.*np.pi*t/f2)\n",
    "    sin3[i] = np.sin(2.*np.pi*t/f3)\n",
    "    sin4[i] = np.sin(2.*np.pi*t/f4)\n",
    "    i = i + 1"
   ]
  },
  {
   "cell_type": "markdown",
   "metadata": {},
   "source": [
    "Finally, we define a function, using the `def` procedure, which we will use to plot the\n",
    "sinus functions with the `matplotlib` package.\n",
    "\n",
    "When we run this cell, it seems that nothing is happening... Wrong: We prepared everything for plotting."
   ]
  },
  {
   "cell_type": "code",
   "execution_count": null,
   "metadata": {},
   "outputs": [],
   "source": [
    "#-----------------------------------------------------------------------\n",
    "# define function to plot interactively\n",
    "#-----------------------------------------------------------------------\n",
    "def plot_sinus(f1,f2,f3,f4,a1,a2,a3,a4):\n",
    "    plt.figure(figsize=(12.0, 6.0))\n",
    "    plt.xlabel('Time B.P. [years]',size=12)\n",
    "    plt.ylabel('Amplitude',size=12)\n",
    "    plt.title('Synthetic sinus functions',size=12)\n",
    "    sin = sin0\n",
    "    if (f1):\n",
    "        sin = sin + a1*sin1\n",
    "        plt.plot(time/1000,a1*sin1,color='grey',linestyle='-',linewidth=1,label='100,000')\n",
    "    if (f2):\n",
    "        sin = sin + a2*sin2\n",
    "        plt.plot(time/1000,a2*sin2,color='grey',linestyle='-',linewidth=1,label='41,000')\n",
    "    if (f3):\n",
    "        sin = sin + a3*sin3\n",
    "        plt.plot(time/1000,a3*sin3,color='grey',linestyle='-',linewidth=1,label='23,000')\n",
    "    if (f4):\n",
    "        sin = sin + a4*sin4\n",
    "        plt.plot(time/1000,a4*sin4,color='grey',linestyle='-',linewidth=1,label='19,000')\n",
    "    plt.plot(time/1000,sin,color='red',linestyle='-',linewidth=2,label='Sum')\n",
    "\n",
    "    plt.xlim([tmin/1000,tmax/1000])\n",
    "    plt.ylim([-4,4])\n",
    "    plt.legend(loc='upper right')\n",
    "    plt.show()"
   ]
  },
  {
   "cell_type": "markdown",
   "metadata": {},
   "source": [
    "Now we just need to call the defined function `plot_sinus` with the initial arguments, and our figure\n",
    "appears:"
   ]
  },
  {
   "cell_type": "code",
   "execution_count": null,
   "metadata": {},
   "outputs": [],
   "source": [
    "plot_sinus(f1,f2,f3,f4,a1,a2,a3,a4)"
   ]
  },
  {
   "cell_type": "markdown",
   "metadata": {},
   "source": [
    "Finally, we use our plotting function in the interactive `ipywidgets` module to create buttons and a slider for\n",
    "the relevant parameter values. Play with it and see how the time series changes!"
   ]
  },
  {
   "cell_type": "code",
   "execution_count": null,
   "metadata": {},
   "outputs": [],
   "source": [
    "# call interactive module\n",
    "w = dict(\n",
    "f1=widgets.Checkbox(value=False,description='100,000 years',continuous_update=False,disabled=False),\n",
    "a1=widgets.FloatSlider(min=0.,max=2.,step=0.1,value=1.0),\n",
    "f2=widgets.Checkbox(value=False,description='41,000 years',continuous_update=False,disabled=False),\n",
    "a2=widgets.FloatSlider(min=0.,max=2.,step=0.1,value=1.0),\n",
    "f3=widgets.Checkbox(value=False,description='23,000 years',continuous_update=False,disabled=False),\n",
    "a3=widgets.FloatSlider(min=0.,max=2.,step=0.1,value=1.0),\n",
    "f4=widgets.Checkbox(value=False,description='19,000 years',continuous_update=False,disabled=False),\n",
    "a4=widgets.FloatSlider(min=0.,max=2.,step=0.1,value=1.0))\n",
    "output = widgets.interactive_output(plot_sinus, w)\n",
    "box = widgets.HBox([widgets.VBox([*w.values()]), output])\n",
    "display(box)"
   ]
  },
  {
   "cell_type": "markdown",
   "metadata": {},
   "source": [
    "## Spectra\n",
    "\n",
    "To analyse the spectral content of the time series, we use a real 1D Fourier transform from the\n",
    "`python` package."
   ]
  },
  {
   "cell_type": "code",
   "execution_count": null,
   "metadata": {},
   "outputs": [],
   "source": [
    "# define frequencies\n",
    "f1 = 100000.; a1 = 1.0 # eccentricity\n",
    "f2 =  41000.; a2 = 1.0 # obliquity\n",
    "f3 =  23000.; a3 = 1.0 # precession\n",
    "f4 =  19000.; a4 = 1.0 # precession\n",
    "# timing\n",
    "tmin  = -800000\n",
    "tmax  = 0\n",
    "tstep = 500\n",
    "rate  = 1 / tstep\n",
    "nmax  = int((tmax-tmin) / tstep)+1\n",
    "#-----------------------------------------------------------------------\n",
    "# create time series\n",
    "#-----------------------------------------------------------------------\n",
    "time = np.zeros(nmax);sin0 = np.zeros(nmax)\n",
    "sin1 = np.zeros(nmax);sin2 = np.zeros(nmax)\n",
    "sin3 = np.zeros(nmax);sin4 = np.zeros(nmax)\n",
    "i=0\n",
    "for t in np.arange(tmin,tmax+tstep,tstep):\n",
    "    time[i] = t\n",
    "    sin1[i] = np.sin(2.*np.pi*t/f1)\n",
    "    sin2[i] = np.sin(2.*np.pi*t/f2)\n",
    "    sin3[i] = np.sin(2.*np.pi*t/f3)\n",
    "    sin4[i] = np.sin(2.*np.pi*t/f4)\n",
    "    i = i + 1\n",
    "\n",
    "#-----------------------------------------------------------------------\n",
    "# define function to plot interactively\n",
    "#-----------------------------------------------------------------------\n",
    "def plot_spectra(f1,f2,f3,f4,a1,a2,a3,a4):\n",
    "    tstep = 500\n",
    "    rate  = 1 / tstep\n",
    "    plt.figure(figsize=(12.0, 8.0))\n",
    "    plot1=plt.subplot2grid((2,2), (0,0), colspan=2,rowspan=1)\n",
    "    plot2=plt.subplot2grid((2,2), (1,0), colspan=2,rowspan=1)\n",
    "    # plot time series\n",
    "    plot1.set_xlabel('Time B.P. [y]')\n",
    "    plot1.set_ylabel('Amplitude')\n",
    "    sin = sin0\n",
    "    if (f1):\n",
    "        sin = sin + a1*sin1\n",
    "        plot1.plot(time/1000,a1*sin1,color='grey',linestyle='-',linewidth=1,label='100,000')\n",
    "    if (f2):\n",
    "        sin = sin + a2*sin2\n",
    "        plot1.plot(time/1000,a2*sin2,color='grey',linestyle='-',linewidth=1,label='41,000')\n",
    "    if (f3):\n",
    "        sin = sin + a3*sin3\n",
    "        plot1.plot(time/1000,a3*sin3,color='grey',linestyle='-',linewidth=1,label='23,000')\n",
    "    if (f4):\n",
    "        sin = sin + a4*sin4\n",
    "        plot1.plot(time/1000,a4*sin4,color='grey',linestyle='-',linewidth=1,label='19,000')\n",
    "    plot1.plot(time/1000,sin,color='red',linestyle='-',linewidth=2,label='Sum')\n",
    "    plot1.set_xlim([tmin/1000,tmax/1000])\n",
    "    plot1.set_ylim([-4,4])\n",
    "    plot1.legend(loc='upper right')\n",
    "    # calculate and plot spectrum \n",
    "    p1 = np.abs(np.fft.rfft(sin))\n",
    "    f = np.linspace(rate/2/len(p1), rate/2, len(p1))\n",
    "    plot2.set_xlabel('Period [y]',size=12)\n",
    "    plot2.set_ylabel('Power spectrum',size=12)\n",
    "    plot2.set_xlim([10000,200000])\n",
    "    #plt.xticks([0,4,7,10,15,20,25,30])\n",
    "    plot2.plot(1./f,p1,label='Spectrum')\n",
    "    plot2.legend()\n",
    "    plt.show()\n",
    "    \n",
    "# call interactive module\n",
    "w = dict(\n",
    "f1=widgets.Checkbox(value=False,description='100,000 years',continuous_update=False,disabled=False),\n",
    "a1=widgets.FloatSlider(min=0.,max=2.,step=0.1,value=1.0),\n",
    "f2=widgets.Checkbox(value=False,description='41,000 years',continuous_update=False,disabled=False),\n",
    "a2=widgets.FloatSlider(min=0.,max=2.,step=0.1,value=1.0),\n",
    "f3=widgets.Checkbox(value=False,description='23,000 years',continuous_update=False,disabled=False),\n",
    "a3=widgets.FloatSlider(min=0.,max=2.,step=0.1,value=1.0),\n",
    "f4=widgets.Checkbox(value=False,description='19,000 years',continuous_update=False,disabled=False),\n",
    "a4=widgets.FloatSlider(min=0.,max=2.,step=0.1,value=1.0))\n",
    "output = widgets.interactive_output(plot_spectra, w)\n",
    "box = widgets.HBox([widgets.VBox([*w.values()]), output])\n",
    "display(box)"
   ]
  }
 ],
 "metadata": {
  "kernelspec": {
   "display_name": "Python 3",
   "language": "python",
   "name": "python3"
  },
  "language_info": {
   "codemirror_mode": {
    "name": "ipython",
    "version": 3
   },
   "file_extension": ".py",
   "mimetype": "text/x-python",
   "name": "python",
   "nbconvert_exporter": "python",
   "pygments_lexer": "ipython3",
   "version": "3.7.3"
  }
 },
 "nbformat": 4,
 "nbformat_minor": 1
}
