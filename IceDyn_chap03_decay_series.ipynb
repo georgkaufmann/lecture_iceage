{
 "cells": [
  {
   "cell_type": "markdown",
   "metadata": {},
   "source": [
    "<table>\n",
    "<tr><td><img style=\"height: 150px;\" src=\"images/geo_hydro1.jpg\"></td>\n",
    "<td bgcolor=\"#FFFFFF\">\n",
    "    <p style=\"font-size: xx-large; font-weight: 900; line-height: 100%\">AG Dynamics of the Earth</p>\n",
    "    <p style=\"font-size: large; color: rgba(0,0,0,0.5);\">Jupyter notebooks</p>\n",
    "    <p style=\"font-size: large; color: rgba(0,0,0,0.5);\">Georg Kaufmann</p>\n",
    "    </td>\n",
    "</tr>\n",
    "</table>"
   ]
  },
  {
   "cell_type": "markdown",
   "metadata": {},
   "source": [
    "# Ice-age dynamics: 3. Dating\n",
    "## Decay series\n",
    "----\n",
    "*Georg Kaufmann,\n",
    "Geophysics Section,\n",
    "Institute of Geological Sciences,\n",
    "Freie Universität Berlin,\n",
    "Germany*"
   ]
  },
  {
   "cell_type": "markdown",
   "metadata": {},
   "source": [
    "In this notebook, we use the equations on **radioactive decay series** derived in the lecture\n",
    "and play with `python` to plot the decay time series.\n",
    "\n",
    "We first initialize the `python` libraries."
   ]
  },
  {
   "cell_type": "code",
   "execution_count": 3,
   "metadata": {},
   "outputs": [],
   "source": [
    "%matplotlib inline\n",
    "from ipywidgets import interactive\n",
    "import ipywidgets as widgets\n",
    "import matplotlib.pyplot as plt\n",
    "import numpy as np"
   ]
  },
  {
   "cell_type": "markdown",
   "metadata": {},
   "source": [
    "----\n",
    "## Decay series\n",
    "\n",
    "The solutions to the differential equations for **parent**- and **daugther**-isotopes, $P(t)$ and $D(t)$, read:\n",
    "$$\n",
    "\\begin{array}{rcl}\n",
    "P_1(t) & = & P_1^0 e^{\\displaystyle -\\lambda_1 t} \\\\\n",
    "P_2(t) & = & \\frac{\\displaystyle \\lambda_1}{\\displaystyle \\lambda_1 - \\lambda_2} P_1^0 \\left( e^{\\displaystyle -\\lambda_1 t} - e^{\\displaystyle -\\lambda_2 t} \\right)\n",
    "            + P_2^0 e^{\\displaystyle -\\lambda_2 t} \\\\\n",
    "D(t) & = & P_1^0 \\left( 1 \n",
    "                     - \\frac{\\displaystyle \\lambda_2}{\\displaystyle \\lambda_2 - \\lambda_1} e^{\\displaystyle -\\lambda_1 t} \n",
    "                     - \\frac{\\displaystyle \\lambda_1}{\\displaystyle \\lambda_1 - \\lambda_2} e^{\\displaystyle -\\lambda_2 t}\n",
    "                \\right)\n",
    "\\end{array}\n",
    "$$\n",
    "\n",
    "- Define the three equations as function `n1n2n3()`\n",
    "- Embed in `ipywidgets` for interactive use"
   ]
  },
  {
   "cell_type": "code",
   "execution_count": 10,
   "metadata": {},
   "outputs": [],
   "source": [
    "def n1n2n3(thalf1,thalf2):\n",
    "    # define solutions for parent and daughter isotopes\n",
    "    lambda1 = np.log(2)/thalf1\n",
    "    lambda2 = np.log(2)/thalf2\n",
    "    if (lambda1 == lambda2):\n",
    "        lambda2 = 0.99*lambda2\n",
    "    t = np.linspace(0,50, num=100)\n",
    "    n1 = 100*np.e**(-lambda1*t)\n",
    "    n2 = 100*lambda1/(lambda2-lambda1)*(np.e**(-lambda1*t) - np.e**(-lambda2*t))\n",
    "    n3 = 100*(1 - lambda2/(lambda2-lambda1)*np.e**(-lambda1*t) - lambda1/(lambda1-lambda2)*np.e**(-lambda2*t))\n",
    "    # call plotting functions\n",
    "    plt.figure(figsize=(10.0, 6.0))\n",
    "    plt.title('Decay series')\n",
    "    plt.xlim([0,50])\n",
    "    plt.xlabel('Time [h]')\n",
    "    plt.ylim([-5,105])\n",
    "    plt.ylabel('Amount [%]')\n",
    "    plt.plot(t,n1,linewidth=2,color='red',label='P$_1$(t)')\n",
    "    plt.plot(t,n2,linewidth=2,color='green',label='P$_2$(t)')\n",
    "    plt.plot(t,n3,linewidth=2,color='blue',label='P$_3$(t)')\n",
    "    plt.legend(loc='center right')\n",
    "    plt.grid()"
   ]
  },
  {
   "cell_type": "code",
   "execution_count": 11,
   "metadata": {
    "tags": []
   },
   "outputs": [
    {
     "data": {
      "application/vnd.jupyter.widget-view+json": {
       "model_id": "a421f237288049b4b2e5d45c19c5382d",
       "version_major": 2,
       "version_minor": 0
      },
      "text/plain": [
       "HBox(children=(VBox(children=(FloatSlider(value=1.0, description='$t^1_{1/2}$', max=10.0, min=0.1), FloatSlide…"
      ]
     },
     "metadata": {},
     "output_type": "display_data"
    }
   ],
   "source": [
    "# call interactive module\n",
    "w = dict(\n",
    "thalf1=widgets.FloatSlider(min=0.1,max=10.0,step=0.1,value=1.00,description='$t^1_{1/2}$'),\n",
    "thalf2=widgets.FloatSlider(min=0.1,max=10.0,step=0.1,value=7.00,description='$t^2_{1/2}$'))\n",
    "\n",
    "output = widgets.interactive_output(n1n2n3, w)\n",
    "box = widgets.HBox([widgets.VBox([*w.values()]), output])\n",
    "display(box)"
   ]
  },
  {
   "cell_type": "markdown",
   "metadata": {},
   "source": [
    "Note the two lines in the function `n1n2n3` commented out (the if clause). Try in the example above to set both half-lives to the same value. The program will crash, because for $t^1_{1/2}=t^2_{1/2}$, there will be a division through zero in the denominator (check the equations above!). We avoid this problem by checking, if this situation arises, then slightly changing one of the values (by 1%). "
   ]
  }
 ],
 "metadata": {
  "kernelspec": {
   "display_name": "Python 3 (ipykernel)",
   "language": "python",
   "name": "python3"
  },
  "language_info": {
   "codemirror_mode": {
    "name": "ipython",
    "version": 3
   },
   "file_extension": ".py",
   "mimetype": "text/x-python",
   "name": "python",
   "nbconvert_exporter": "python",
   "pygments_lexer": "ipython3",
   "version": "3.11.3"
  }
 },
 "nbformat": 4,
 "nbformat_minor": 4
}
