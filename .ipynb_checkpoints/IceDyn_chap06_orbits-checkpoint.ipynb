{
 "cells": [
  {
   "cell_type": "markdown",
   "metadata": {},
   "source": [
    "<table>\n",
    "<tr><td><img style=\"height: 150px;\" src=\"images/geo_hydro1.jpg\"></td>\n",
    "<td bgcolor=\"#FFFFFF\">\n",
    "    <p style=\"font-size: xx-large; font-weight: 900; line-height: 100%\">AG Dynamics of the Earth</p>\n",
    "    <p style=\"font-size: large; color: rgba(0,0,0,0.5);\">Jupyter notebooks</p>\n",
    "    <p style=\"font-size: large; color: rgba(0,0,0,0.5);\">Georg Kaufmann</p>\n",
    "    </td>\n",
    "</tr>\n",
    "</table>"
   ]
  },
  {
   "cell_type": "markdown",
   "metadata": {},
   "source": [
    "# Ice-age dynamics: 6. Earth Orbit\n",
    "## Orbits\n",
    "----\n",
    "*Georg Kaufmann,\n",
    "Geophysics Section,\n",
    "Institute of Geological Sciences,\n",
    "Freie Universität Berlin,\n",
    "Germany*"
   ]
  },
  {
   "cell_type": "markdown",
   "metadata": {},
   "source": [
    "In this notebook, we discuss simple **orbit relations**, and discuss possible trjectories of planets\n",
    "and moons, using `python`.\n",
    "\n",
    "We first initialize the `python` libraries."
   ]
  },
  {
   "cell_type": "code",
   "execution_count": null,
   "metadata": {},
   "outputs": [],
   "source": [
    "import numpy as np\n",
    "import matplotlib.pyplot as plt\n",
    "from mpl_toolkits import mplot3d\n",
    "import ipywidgets as widgets"
   ]
  },
  {
   "cell_type": "markdown",
   "metadata": {},
   "source": [
    "----\n",
    "## Elliptical orbit\n",
    "\n",
    "First, we create an array of points on a unit sphere, the **orbit**:"
   ]
  },
  {
   "cell_type": "code",
   "execution_count": null,
   "metadata": {},
   "outputs": [],
   "source": [
    "# discretisation\n",
    "t = np.linspace(0,2*np.pi,51)"
   ]
  },
  {
   "cell_type": "markdown",
   "metadata": {},
   "source": [
    "Next, we define the variable geometry of an **ellipse** as a function of the eccentricity $e$:"
   ]
  },
  {
   "cell_type": "code",
   "execution_count": null,
   "metadata": {},
   "outputs": [],
   "source": [
    "def plot_ellipse(e):\n",
    "    \"\"\"\n",
    "    function creates circle and ellipse and plot it\n",
    "    \"\"\"\n",
    "    # circle\n",
    "    ycircle = np.cos(t)\n",
    "    xcircle = np.sin(t)\n",
    "\n",
    "    a=1.0; b=a*(1+e)\n",
    "    # ellipsoid\n",
    "    yellipse = a*np.cos(t)\n",
    "    xellipse = b*np.sin(t)\n",
    "    # plot\n",
    "    plt.figure(figsize=(8,8))\n",
    "    plt.xlim([-1.2,1.2])\n",
    "    plt.ylim([-1.2,1.2])\n",
    "    plt.plot(xcircle,ycircle,lw=4,label='e=0')\n",
    "    plt.plot(xellipse,yellipse,lw=2,label='e='+str(e))\n",
    "    plt.plot(-e,0,lw=0,marker='o',color=(0.8,0.8,0.0),markersize=30)\n",
    "    plt.plot(+e,0,lw=0,marker='x')\n",
    "    plt.legend()\n",
    "    \n",
    "plot_ellipse(0.05)"
   ]
  },
  {
   "cell_type": "code",
   "execution_count": null,
   "metadata": {},
   "outputs": [],
   "source": [
    "# call interactive module\n",
    "w = dict(\n",
    "e=widgets.FloatSlider(min=0,max=0.20,step=0.01,value=0.05,description='Eccentricity'))\n",
    "\n",
    "output = widgets.interactive_output(plot_ellipse, w)\n",
    "box = widgets.VBox([widgets.HBox([*w.values()]), output])\n",
    "display(box)"
   ]
  },
  {
   "cell_type": "markdown",
   "metadata": {},
   "source": [
    "Plot the ellipse in 3D:"
   ]
  },
  {
   "cell_type": "code",
   "execution_count": null,
   "metadata": {
    "scrolled": false
   },
   "outputs": [],
   "source": [
    "%matplotlib notebook\n",
    "# discretisation\n",
    "t = np.linspace(0,2*np.pi,51)\n",
    "# inclination of orbit\n",
    "inc=15.\n",
    "# eccentricity of orbit\n",
    "e=0.5\n",
    "# major and minor axes of ellipsoid\n",
    "a=1.0; b=a*(1+e)\n",
    "# coordinate arrays\n",
    "yellipse = a*np.cos(t)\n",
    "xellipse = b*np.sin(t)\n",
    "zellipse = xellipse.max()*np.arctan(inc*np.pi/180.)*xellipse\n",
    "# plot\n",
    "fig = plt.figure()\n",
    "ax = plt.axes(projection='3d')\n",
    "ax.plot3D(xellipse, yellipse, zellipse, 'red')\n",
    "ax.scatter3D(-e,0,-xellipse.max()*np.arctan(inc*np.pi/180.)*e,color=(0.8,0.8,0.0),s=400)\n",
    "ax.scatter3D(+e,0,+xellipse.max()*np.arctan(inc*np.pi/180.)*e,color=(0.0,0.0,1.0),s=10)\n",
    "ax.set_xlim([-1.1,1.1])\n",
    "ax.set_ylim([-1.1,1.1])\n",
    "ax.set_zlim([-1.1,1.1])\n",
    "ax.set_xlabel('X axis')\n",
    "ax.set_ylabel('Y axis')\n",
    "ax.set_zlabel('Z axis')"
   ]
  },
  {
   "cell_type": "markdown",
   "metadata": {},
   "source": [
    "----\n",
    "## Different orbits\n",
    "\n",
    "Finally, we plot different geometrical curves representing orbits."
   ]
  },
  {
   "cell_type": "code",
   "execution_count": null,
   "metadata": {},
   "outputs": [],
   "source": [
    "%matplotlib inline\n",
    "# define major axis\n",
    "a = 1.2\n",
    "# initialize figure\n",
    "plt.figure(figsize=(8,8))\n",
    "plt.xlim([-3,2])\n",
    "plt.ylim([-2.5,2.5])\n",
    "# circle and ellipse\n",
    "for e in np.linspace(0.0,0.75,4):\n",
    "    t = np.linspace(0,2*np.pi,101)\n",
    "    p=a*(1-e**2)\n",
    "    r=p/(1+e*np.cos(t))\n",
    "    x = r*np.cos(t)\n",
    "    y = r*np.sin(t)\n",
    "    plt.plot(x,y,label='e='+str(e))\n",
    "# parabola\n",
    "t = np.linspace(0,2*np.pi,101)\n",
    "e = 1.\n",
    "p=a\n",
    "r=p/(1-e*np.cos(t))\n",
    "x = r*np.cos(t)\n",
    "y = r*np.sin(t)\n",
    "plt.plot(x,y,label='e='+str(e))\n",
    "# hyperbolas\n",
    "for e in np.linspace(1.25,1.5,2):\n",
    "    t = np.linspace(np.pi/2,3*np.pi/2,101)\n",
    "    p=a*(1+e**2)\n",
    "    r=p/(1-e*np.cos(t))\n",
    "    x = r*np.cos(t)\n",
    "    y = r*np.sin(t)\n",
    "    plt.plot(x,y,label='e='+str(e))\n",
    "\n",
    "plt.legend()   \n",
    "plt.savefig('figures/cone_sections.png',dpi=300)"
   ]
  },
  {
   "cell_type": "markdown",
   "metadata": {},
   "source": [
    "... done"
   ]
  }
 ],
 "metadata": {
  "kernelspec": {
   "display_name": "Python 3",
   "language": "python",
   "name": "python3"
  },
  "language_info": {
   "codemirror_mode": {
    "name": "ipython",
    "version": 3
   },
   "file_extension": ".py",
   "mimetype": "text/x-python",
   "name": "python",
   "nbconvert_exporter": "python",
   "pygments_lexer": "ipython3",
   "version": "3.7.3"
  }
 },
 "nbformat": 4,
 "nbformat_minor": 2
}
