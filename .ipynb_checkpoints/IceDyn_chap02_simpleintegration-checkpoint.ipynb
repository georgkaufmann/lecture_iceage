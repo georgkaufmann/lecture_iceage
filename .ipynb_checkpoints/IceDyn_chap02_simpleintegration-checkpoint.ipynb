{
 "cells": [
  {
   "cell_type": "markdown",
   "metadata": {},
   "source": [
    "<table>\n",
    "<tr><td><img style=\"height: 150px;\" src=\"images/geo_hydro1.jpg\"></td>\n",
    "<td bgcolor=\"#FFFFFF\">\n",
    "    <p style=\"font-size: xx-large; font-weight: 900; line-height: 100%\">AG Dynamics of the Earth</p>\n",
    "    <p style=\"font-size: large; color: rgba(0,0,0,0.5);\">Juypter notebooks</p>\n",
    "    <p style=\"font-size: large; color: rgba(0,0,0,0.5);\">Georg Kaufmann</p>\n",
    "    </td>\n",
    "</tr>\n",
    "</table>"
   ]
  },
  {
   "cell_type": "markdown",
   "metadata": {},
   "source": [
    "# Simple integration\n",
    "\n",
    "----\n",
    "*Georg Kaufmann,\n",
    "Geophysics Section,\n",
    "Institute of Geological Sciences,\n",
    "Freie Universität Berlin,\n",
    "Germany*"
   ]
  },
  {
   "cell_type": "markdown",
   "metadata": {},
   "source": [
    "In this notebook, we apply simple integration methods for functions with one variable.\n",
    "\n",
    "As a first step, we import the `numpy`, the `matplotlib` library, and the `scipy` library to be generally available.\n",
    "Note that from *scipy*, only the package `integrate` is imported."
   ]
  },
  {
   "cell_type": "code",
   "execution_count": null,
   "metadata": {},
   "outputs": [],
   "source": [
    "import numpy as np\n",
    "import matplotlib.pyplot as plt\n",
    "#from scipy.integrate import simps\n",
    "from scipy import integrate"
   ]
  },
  {
   "cell_type": "markdown",
   "metadata": {},
   "source": [
    "## Simple integration methods\n",
    "\n",
    "Next, we define a simple function:\n",
    "$$\n",
    "f_1(x) = 4 - x^2\n",
    "$$\n",
    "which is a parabola, flipped in the vertical direction ($y$-axis), and shifted by $4$ vertically.\n",
    "\n",
    "Next, we define the parabola along the range $x \\in [-2,2]$, and plot it."
   ]
  },
  {
   "cell_type": "code",
   "execution_count": null,
   "metadata": {},
   "outputs": [],
   "source": [
    "def f1(x):\n",
    "    y = 4 - x**2\n",
    "    return y\n",
    "\n",
    "x = np.linspace(-2,2,21)\n",
    "y = f1(x)\n",
    "plt.plot(x,y)"
   ]
  },
  {
   "cell_type": "markdown",
   "metadata": {},
   "source": [
    "Now we want to solve the following integral:\n",
    "$$\n",
    "I1 = \\int\\limits_{-2}^{+2} \\left( 4 - x^2 \\right) dx\n",
    "$$\n",
    "Solving the integral analytically, we obtain\n",
    "$$\n",
    "I1 = \\left[ 4x - {{1}\\over{3}} x^3 \\right]_{-2}^{+2} \\sim 10\n",
    "$$"
   ]
  },
  {
   "cell_type": "markdown",
   "metadata": {},
   "source": [
    "Now we apply three different methods from the numerical integration toolbox:\n",
    "\n",
    "1. Simpson's rule\n",
    "\n",
    "2. Gauss Quadrature\n",
    "\n",
    "3. Romberg integration\n",
    "\n",
    "Note that for the Simpson's rule, we need to plug in the $x$ and $y$ arrays, while for the\n",
    "other two methods, we hand down the function and the integration limits.\n",
    "(why is `python` often so inconsistent?) \n",
    "\n",
    "For the Simpson rule, we test the discretisation..."
   ]
  },
  {
   "cell_type": "code",
   "execution_count": null,
   "metadata": {},
   "outputs": [],
   "source": [
    "for i in range(1,10):\n",
    "    x = np.linspace(-2,2,i)\n",
    "    y1 = f1(x)\n",
    "    Isimpson = integrate.simps(y1, x)\n",
    "    print ('Simpson: ',i,Isimpson)\n",
    "\n",
    "Igauss = integrate.quad(f1,-2,2)\n",
    "print ('Quadrature: ',Igauss[0])\n",
    "\n",
    "Iromberg = integrate.romberg(f1,-2,2,show='True')\n",
    "print ('Romberg: ',Iromberg)"
   ]
  },
  {
   "cell_type": "markdown",
   "metadata": {},
   "source": [
    "So the *true* value (to our numerical precision), is around $10.\\bar{6}$.\n",
    "\n",
    "I just leave you here with these three methods, without further explanation, as this is task of the\n",
    "lecture **Numerical methods in geosciences**."
   ]
  },
  {
   "cell_type": "markdown",
   "metadata": {},
   "source": [
    "## Gauss distribution: the $\\sigma$ estimates ...\n",
    "\n",
    "Now we return to the classical **Gaussian** curve, given as probability:\n",
    "$$\n",
    "p_i(x) = {{1} \\over {\\sqrt{2\\pi \\sigma^2}}} e^{-{{(x-\\mu)^2} \\over {2\\sigma^2}}}\n",
    "$$\n",
    "with $\\mu$ and $\\sigma$ the **mean** and the **standard deviation** for the distribution.\n",
    "\n",
    "We have said, that the probabilities for a sample to be within the $\\pm 1\\sigma$, $\\pm 2\\sigma$,\n",
    "or $\\pm 3\\sigma$ range is:\n",
    "\n",
    "- Around 68.27 % of all points are within the $1 \\sigma$ uncertainty.\n",
    "- Around 95.45 % of all points are within the $2 \\sigma$ uncertainty.\n",
    "- Around 99.73 % of all points are within the $3 \\sigma$ uncertainty.\n",
    "\n",
    "Let's calculate these values. We just need to integrate the above function from\n",
    "$x \\in [-1 \\sigma,+1 \\sigma]$,\n",
    "$x \\in [-2 \\sigma,+2 \\sigma]$,\n",
    "$x \\in [-3 \\sigma,+3 \\sigma]$."
   ]
  },
  {
   "cell_type": "code",
   "execution_count": null,
   "metadata": {},
   "outputs": [],
   "source": [
    "# mean mu and standard deviation sigma\n",
    "mu    = 2.\n",
    "sigma = 1.\n",
    "\n",
    "def gauss_probability(x):\n",
    "    # Gauss probability function y=p_i(x)\n",
    "    y = 1/(sigma * np.sqrt(2*np.pi)) * np.exp( -(x-mu)**2 / (2*sigma**2) )\n",
    "    return y\n",
    "\n",
    "# plot function first for visualisation\n",
    "x = np.linspace(-3*sigma+mu,3*sigma+mu,41)\n",
    "y = gauss_probability(x)\n",
    "plt.plot(x,y)\n",
    "\n",
    "# perform numerical integration three times\n",
    "onesigma   = integrate.quad(gauss_probability,-1*sigma+mu,1*sigma+mu)\n",
    "twosigma   = integrate.quad(gauss_probability,-2*sigma+mu,2*sigma+mu)\n",
    "threesigma = integrate.quad(gauss_probability,-3*sigma+mu,3*sigma+mu)\n",
    "print (\"%s %4.2f %s\" % ('1-sigma: ',100*onesigma[0],'%'))\n",
    "print (\"%s %4.2f %s\" % ('2-sigma: ',100*twosigma[0],'%'))\n",
    "print (\"%s %4.2f %s\" % ('3-sigma: ',100*threesigma[0],'%'))\n"
   ]
  },
  {
   "cell_type": "markdown",
   "metadata": {},
   "source": [
    "Voila, there we are!"
   ]
  }
 ],
 "metadata": {
  "kernelspec": {
   "display_name": "Python 3",
   "language": "python",
   "name": "python3"
  },
  "language_info": {
   "codemirror_mode": {
    "name": "ipython",
    "version": 3
   },
   "file_extension": ".py",
   "mimetype": "text/x-python",
   "name": "python",
   "nbconvert_exporter": "python",
   "pygments_lexer": "ipython3",
   "version": "3.7.3"
  }
 },
 "nbformat": 4,
 "nbformat_minor": 2
}
