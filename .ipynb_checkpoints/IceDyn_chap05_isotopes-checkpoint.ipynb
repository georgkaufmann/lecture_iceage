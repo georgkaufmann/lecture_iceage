{
 "cells": [
  {
   "cell_type": "markdown",
   "metadata": {},
   "source": [
    "<table>\n",
    "<tr><td><img style=\"height: 150px;\" src=\"images/geo_hydro1.jpg\"></td>\n",
    "<td bgcolor=\"#FFFFFF\">\n",
    "    <p style=\"font-size: xx-large; font-weight: 900; line-height: 100%\">AG Dynamics of the Earth</p>\n",
    "    <p style=\"font-size: large; color: rgba(0,0,0,0.5);\">Juypter notebooks</p>\n",
    "    <p style=\"font-size: large; color: rgba(0,0,0,0.5);\">Georg Kaufmann</p>\n",
    "    </td>\n",
    "</tr>\n",
    "</table>"
   ]
  },
  {
   "cell_type": "markdown",
   "metadata": {},
   "source": [
    "# Ice-age dynamics: 5. Karst\n",
    "## Stable isotopes\n",
    "----\n",
    "*Georg Kaufmann,\n",
    "Geophysics Section,\n",
    "Institute of Geological Sciences,\n",
    "Freie Universität Berlin,\n",
    "Germany*"
   ]
  },
  {
   "cell_type": "markdown",
   "metadata": {},
   "source": [
    "In this notebook, we will describe **isotopes** and their common notation, and then we introduce\n",
    "isotope fractionation.\n",
    "\n",
    "First, we need to load the `python` libraries `numpy` and `matplotlib` to enable\n",
    "caculations and plotting, and define some common font sizes."
   ]
  },
  {
   "cell_type": "code",
   "execution_count": 1,
   "metadata": {},
   "outputs": [],
   "source": [
    "import matplotlib.pyplot as plt\n",
    "import numpy as np\n",
    "\n",
    "def change_fonts():\n",
    "    SMALL_SIZE = 15\n",
    "    MEDIUM_SIZE = 20\n",
    "    BIGGER_SIZE = 25\n",
    "\n",
    "    plt.rc('font', size=SMALL_SIZE)          # controls default text sizes\n",
    "    plt.rc('axes', titlesize=SMALL_SIZE)     # fontsize of the axes title\n",
    "    plt.rc('axes', labelsize=SMALL_SIZE)    # fontsize of the x and y labels\n",
    "    plt.rc('xtick', labelsize=SMALL_SIZE)    # fontsize of the tick labels\n",
    "    plt.rc('ytick', labelsize=SMALL_SIZE)    # fontsize of the tick labels\n",
    "    plt.rc('legend', fontsize=SMALL_SIZE)    # legend fontsize\n",
    "    plt.rc('figure', titlesize=BIGGER_SIZE)  # fontsize of the figure title\n",
    "    \n",
    "change_fonts()"
   ]
  },
  {
   "cell_type": "markdown",
   "metadata": {},
   "source": [
    "## Isotope abundances\n",
    "\n",
    "Isotopes describe variations of an element, which differ in the number of *neutrons* in the core.\n",
    "Thus isotopes of an element differ in mass, and therefore behave differently. The reason for this is\n",
    "manyfold, e.g.\n",
    "\n",
    "- For a common temperature $T$, the energy balance can be written as\n",
    "$$\n",
    "\\frac{3}{2} k T = \\frac{1}{2} m v^2,\n",
    "$$\n",
    "with $k$ [J/K] the Boltzmann constant, $m$ [kg] the mass, and $v$ [m/s] the velocity of the isotope.\n",
    "Thus lighter isotopes will have a higher velocity, resulting in higher diffusion rates and\n",
    "higher collision frequencies, both controlling the chemicla reaction rate.\n",
    "\n",
    "- As potential energy depends on mass, lighter isotopes have a smaller binding energy and\n",
    "are more likely to leave the solid state and e.g. evaporate.\n",
    "\n",
    "Three common elements and their isotopes are *hydrogen* (H), *oxygen* (O), and *carbon* (C):\n",
    "\n",
    "| Element | Isotopes | Abundance [%] |\n",
    "|---|---|---| \n",
    "|Hydrogen | ${}^{1}$H | 99.9885 |\n",
    "| -\"-     | ${}^{2}$H | 0.0115  |\n",
    "|Oxygen   | ${}^{16}$O| 99.757 |\n",
    "| -\"-     | ${}^{17}$O| 0.038 |\n",
    "| -\"-     | ${}^{18}$O| 0.205 |\n",
    "|Carbon   | ${}^{12}$C| 98.9 |\n",
    "| -\"-     | ${}^{13}$C| 1.1 |"
   ]
  },
  {
   "cell_type": "markdown",
   "metadata": {},
   "source": [
    "## Isotope notation\n",
    "\n",
    "Next, we define our notation. We will discuss a reservoir with $N$ molecules, some of them are\n",
    "the **abundant** fraction, the other belong to the **rare** fraction. The number of\n",
    "abundant and rare molecules are:\n",
    "- $[a]$: number of **abundant** molecules\n",
    "- $[r]$: number of **rare** molecules\n",
    "\n",
    "with the terms in square brackets the isotope concentration.\n",
    "\n",
    "The **total** number of molecules is\n",
    "$$\n",
    "N = [a] + [r]\n",
    "$$\n",
    "\n",
    "We define the **isotope ratio** $R$ as\n",
    "$$\n",
    "R = \\frac{[r]}{[a]}\n",
    "$$\n",
    "\n",
    "The isotope ratio is usually a small number, e.g. \n",
    "$$\n",
    "R(\\frac{{}^{18}O}{{}^{16}O}) = \\frac{0.205}{99.757} \\simeq 0.002.\n",
    "$$\n",
    "\n",
    "As **isotope concentration** we define\n",
    "$$\n",
    " \\frac{[r]}{[a]+[r]} = \\frac{R}{1+R}.\n",
    "$$\n",
    "\n",
    "Often, measurements of isotope ratios are reported to a common **isotope standard**,\n",
    "$R_{std}$, which is formulated in the $\\delta$-notation\n",
    "$$\n",
    "\\fbox{$\n",
    "\\delta = \\frac{R}{R_{std}} - 1 \n",
    "$}\n",
    "$$\n",
    "and $\\delta$ is usually reported in [‰], thus multiplying it by a factor of 1000.\n",
    "\n",
    "Typical isostope standards are:\n",
    "\n",
    "|Name   | Material   | Ratio                 |$R_{std}$ |\n",
    "|---|---|---|---|\n",
    "|VSMOV  | H$_2$O     | ${}^{2}$H/${}^{1}$H   | 0.00015576(5) |\n",
    "|VSMOV  | H$_2$O     | ${}^{18}$O/${}^{16}$O | 0.0020052(5)  |\n",
    "|VSMOV  | H$_2$O     | ${}^{17}$O/${}^{16}$O | 0.0003800(9)  |\n",
    "|VPDB   | -          | ${}^{13}$C/${}^{12}$C | 0.011180      | "
   ]
  },
  {
   "cell_type": "markdown",
   "metadata": {},
   "source": [
    "Next, we reformulate the numbers of abundant and rare molecules with a lengthy expansion:\n",
    "\n",
    "$$\n",
    "N = [a] + [r]\n",
    "  = \\frac{N}{N} [a] + [r]\n",
    "  = N \\left( \\frac{[a]}{[a] + [r]} + \\frac{[r]}{[a] + [r]} \\right)\n",
    "  = N \\left( \\frac{1}{1+{{[r]}\\over {[a]}}} + \\frac{{{[r]}\\over {[a]}}}{1+{{[r]}\\over {[a]}}} \\right)\n",
    "  = N \\left( \\frac{1}{1+R} + \\frac{R}{1+R} \\right)\n",
    "  = \\left( \\frac{N}{1+R} + \\frac{N R}{1+R} \\right)\n",
    "$$\n",
    "\n",
    "From comparison, we identify:\n",
    "$$\n",
    "\\begin{array}{rcl}\n",
    "[a] &=& \\frac{N}{1+R} \\\\\n",
    "[r] &=& \\frac{N R}{1+R}\n",
    "\\end{array}\n",
    "$$\n",
    "Thus, we can express abundant and rare numbers through total numbers and isotope ratio.\n",
    "We will use this notation for the reservoir modelling of **Rayleigh fractionation** later."
   ]
  },
  {
   "cell_type": "markdown",
   "metadata": {},
   "source": [
    "## Isotope fractionation\n",
    "\n",
    "If a molecule changes from one **state A** to another **state B**, e.g. from fluid to vapor, the isotopes of\n",
    "the different elements will be separated differently. This can be described by the\n",
    "**fractionation factor**\n",
    "$$\n",
    "\\fbox{$\n",
    "\\alpha_{B/A} = \\frac{R_B}{R_A} = \\frac{1 + \\delta_B}{1 + \\delta_A} $}.\n",
    "$$\n",
    "As the fractionation factor is often very close to one, as an alternative formulation, the\n",
    "**fractionation**\n",
    "$$\n",
    "\\fbox{$\n",
    "\\epsilon_{B/A} = \\alpha_{B/A} -1 $}\n",
    "$$\n",
    "is used. Thus $\\epsilon_{B/A} > 0$ indicates *enrichment* of phase B relative to A,\n",
    "and $\\epsilon_{B/A} < 0$ indicates *depletion* of phase B relative to A.\n",
    "\n",
    "By inserting the delta-notation into the epsilon-notation, we find a relation between them:\n",
    "$\\delta_b = \\delta_A + \\epsilon_{B/A} + \\epsilon_{B/A} \\delta_A$, and because the last term on the\n",
    "right-hand side is small, we find\n",
    "$$\n",
    "\\delta_B \\simeq \\delta_A + \\epsilon_{B/A}.\n",
    "$$\n",
    "We also find:\n",
    "$$\n",
    "\\epsilon_{B/A} \\simeq - \\epsilon_{A/B}.\n",
    "$$\n",
    "\n",
    "Isotope fractionation can occur under different regimes:\n",
    "\n",
    "- **Equilibrium fractionation:**\n",
    "\n",
    "A and B are thermodynamically in equilibrium:\n",
    "$$\n",
    " A^* + B \\leftrightarrow A + B^*,\n",
    "$$\n",
    "with the astericus indication the molecule with the rare isotope. Then the chemical\n",
    "reaction is characterised by an **equilibrium constant**:\n",
    "$$\n",
    "K = \\frac{[A][B^*]}{[A^*][B]} = \\frac{R_B}{R_A} = \\alpha_{B/A}\n",
    "$$\n",
    "\n",
    "- **Kinetic fractionation:**\n",
    "\n",
    "If the forward and the backward reaction are not in equilibrium, thus occuring at different speeds:\n",
    "$$\n",
    "\\begin{array}{rcl}\n",
    "A^* + B & \\rightarrow & A + B^* \\\\\n",
    "A^* + B & \\leftarrow & A + B^*\n",
    "\\end{array}\n",
    "$$\n",
    "\n",
    "In this case the fractionation constant $\\alpha_{B/A}$ is different for both directions."
   ]
  },
  {
   "cell_type": "markdown",
   "metadata": {},
   "source": [
    "----\n",
    "## Examples for fractionation factors from the literature"
   ]
  },
  {
   "cell_type": "markdown",
   "metadata": {},
   "source": [
    "In a first example, we  look at the **temperature-dependence** of the fractionation factor, when a puddle of\n",
    "water evaporates. We thus have two reservoirs, the water puddle (reservoir A) and the\n",
    "vapour (reservoir B)."
   ]
  },
  {
   "cell_type": "code",
   "execution_count": 2,
   "metadata": {},
   "outputs": [],
   "source": [
    "\"\"\"\n",
    "Fractionation factor for oxygen and hydrogen\n",
    "for liquid->vapour\n",
    "from:\n",
    "Horita,J. and Wesolowski,D.J. (1994)\n",
    "Liquid-vapor fractionation of oxygen and hydrogen isotopes \n",
    "of water from the freezing to the critical temperature\n",
    "Geochim. Cosmochim. Acta, 58(16), \n",
    "\"\"\"\n",
    "\n",
    "def alphaH_liquid2vapour(T=10.):\n",
    "    # fractionation factor hydrogen\n",
    "    # reservoirs liquid water -> water vapour\n",
    "    Tk = T + 273.15\n",
    "    dH = 1158.8e-9*Tk**3 - 1620.1e-6*Tk**2 + 794.84e-3*Tk - 161.04 + 2.9992e9/Tk**3\n",
    "    dH = np.exp(dH/1000)\n",
    "    return dH\n",
    "\n",
    "def alphaO_liquid2vapour(T=10.):\n",
    "    # fractionation factor oxygen\n",
    "    # reservoirs liquid water -> water vapour\n",
    "    Tk = T + 273.15\n",
    "    dO = -7.685 + 6.7123e3/Tk - 1.6664e6/Tk**2 + 0.30541e9/Tk**3\n",
    "    dO = np.exp(dO/1000)\n",
    "    return dO"
   ]
  },
  {
   "cell_type": "code",
   "execution_count": 3,
   "metadata": {},
   "outputs": [
    {
     "data": {
      "image/png": "[encoded data removed]",
      "text/plain": [
       "<Figure size 720x432 with 2 Axes>"
      ]
     },
     "metadata": {
      "needs_background": "light"
     },
     "output_type": "display_data"
    }
   ],
   "source": [
    "# define temperature range\n",
    "T = np.linspace(0,100,11)\n",
    "\n",
    "# calculate hydrogen and oxygen fractionation factors\n",
    "dH = alphaH_liquid2vapour(T)\n",
    "dO = alphaO_liquid2vapour(T)\n",
    "\n",
    "# plot\n",
    "fig, ax1 = plt.subplots(figsize=(10,6))\n",
    "ax1.set_title('Fractionation factor water-vapour')\n",
    "ax1.set_xlabel('Temperature [$^{\\circ}$C]')\n",
    "ax1.set_ylim([1,1.015])\n",
    "ax1.set_ylabel('$\\\\alpha$(O)',color='blue')\n",
    "ax1.tick_params(axis='y', labelcolor='blue')\n",
    "ax1.plot(T,dO,color='blue',label='$\\\\alpha_{vapour/water}$(O)')\n",
    "\n",
    "ax2 = ax1.twinx()\n",
    "ax2.set_ylim([1,1.15])\n",
    "ax2.set_ylabel('$\\\\alpha$(D)',color='red')\n",
    "ax2.tick_params(axis='y', labelcolor='red')\n",
    "ax2.plot(T,dH,color='red',label='$\\\\alpha_{vapour/water}$(H)')\n",
    "ax1.legend(loc='upper left')\n",
    "ax2.legend(loc='upper right')\n",
    "plt.savefig('figures/alpha_D_18O.png',dpi=300)\n",
    "plt.show()"
   ]
  },
  {
   "cell_type": "markdown",
   "metadata": {},
   "source": [
    "In a second example, we look at **calcite precipitation** in the ocean."
   ]
  },
  {
   "cell_type": "code",
   "execution_count": 5,
   "metadata": {},
   "outputs": [],
   "source": [
    "\"\"\"\n",
    "Fractionation factor for oxygen \n",
    "for calcite->water\n",
    "from:\n",
    "Most Earth-surface calcites precipitate out of isotopic equilibrium\n",
    "R. N. Drysdale and M. Peral and D. Huyghe, and D. Blamart \n",
    "and T. B. Coplen and F. Lartaud and G. Zanchetta (2019)\n",
    "Most Earth-surface calcites precipitate out of isotopic equilibrium\n",
    "Nat Commun., 10, 429.\n",
    "\"\"\"\n",
    "\n",
    "def alphaO_calcite2water(T=10.):\n",
    "    # fractionation factor oxygen\n",
    "    # reservoirs calcite->water\n",
    "    Tk = T + 273.15\n",
    "    alpha1 = 17.57e3/Tk - 29.13\n",
    "    alpha1 = np.exp(alpha1/1000)\n",
    "    return alpha1"
   ]
  },
  {
   "cell_type": "code",
   "execution_count": 6,
   "metadata": {},
   "outputs": [
    {
     "name": "stdout",
     "output_type": "stream",
     "text": [
      "1.0302485344915862\n"
     ]
    },
    {
     "data": {
      "image/png": "[encoded data removed]",
      "text/plain": [
       "<Figure size 720x432 with 1 Axes>"
      ]
     },
     "metadata": {
      "needs_background": "light"
     },
     "output_type": "display_data"
    }
   ],
   "source": [
    "# define temperature range\n",
    "T = np.linspace(0,100,11)\n",
    "\n",
    "# calculate oxygen fractionation factor\n",
    "dO = alphaO_calcite2water(T)\n",
    "print(alphaO_calcite2water(25))\n",
    "\n",
    "# plot\n",
    "fig, ax1 = plt.subplots(figsize=(10,6))\n",
    "ax1.set_title('Fractionation factor calcite-water')\n",
    "ax1.set_xlabel('Temperature [$^{\\circ}$C]')\n",
    "ax1.set_ylim([1,1.04])\n",
    "ax1.set_ylabel('$\\\\alpha$(O)',color='blue')\n",
    "ax1.tick_params(axis='y', labelcolor='blue')\n",
    "ax1.plot(T,dO,color='blue',label='$\\\\alpha_{calcite/water}$(O)')\n",
    "ax1.legend(loc='upper right')\n",
    "plt.savefig('figures/alphaO_calcite_water.png',dpi=300)\n",
    "plt.show()"
   ]
  },
  {
   "cell_type": "markdown",
   "metadata": {},
   "source": [
    "... done"
   ]
  }
 ],
 "metadata": {
  "kernelspec": {
   "display_name": "Python 3",
   "language": "python",
   "name": "python3"
  },
  "language_info": {
   "codemirror_mode": {
    "name": "ipython",
    "version": 3
   },
   "file_extension": ".py",
   "mimetype": "text/x-python",
   "name": "python",
   "nbconvert_exporter": "python",
   "pygments_lexer": "ipython3",
   "version": "3.7.3"
  }
 },
 "nbformat": 4,
 "nbformat_minor": 2
}
