{
 "cells": [
  {
   "cell_type": "markdown",
   "metadata": {},
   "source": [
    "<table>\n",
    "<tr><td><img style=\"height: 150px;\" src=\"images/geo_hydro1.jpg\"></td>\n",
    "<td bgcolor=\"#FFFFFF\">\n",
    "    <p style=\"font-size: xx-large; font-weight: 900; line-height: 100%\">AG Dynamics of the Earth</p>\n",
    "    <p style=\"font-size: large; color: rgba(0,0,0,0.5);\">Jupyter notebooks</p>\n",
    "    <p style=\"font-size: large; color: rgba(0,0,0,0.5);\">Georg Kaufmann</p>\n",
    "    </td>\n",
    "</tr>\n",
    "</table>"
   ]
  },
  {
   "cell_type": "markdown",
   "metadata": {},
   "source": [
    "# Ice-age dynamics: 9. Landscape\n",
    "## Erosion (fluvial incision, sedimentation)\n",
    "----\n",
    "*Georg Kaufmann,\n",
    "Geophysics Section,\n",
    "Institute of Geological Sciences,\n",
    "Freie Universität Berlin,\n",
    "Germany*"
   ]
  },
  {
   "cell_type": "markdown",
   "metadata": {},
   "source": [
    "In this notebook, we model **chemical weathering** with a **transport equation**.\n",
    "\n",
    "We first initialize the `python` libraries."
   ]
  },
  {
   "cell_type": "code",
   "execution_count": null,
   "metadata": {},
   "outputs": [],
   "source": [
    "import numpy as np\n",
    "import matplotlib.pyplot as plt\n",
    "import ipywidgets as widgets"
   ]
  },
  {
   "cell_type": "markdown",
   "metadata": {},
   "source": [
    "## Model\n",
    "\n",
    "The change in elevation $\\frac{\\partial h}{\\partial t}$ is modelled as **transport equation**, \n",
    "the change depends on the slope $s$ and the runoff $Q$, which control the sediment\n",
    "load $C_i$.\n",
    "\n",
    "$$\n",
    "\\begin{array}{rcl}\n",
    " \\left( \\frac{\\partial h}{\\partial t} \\right)_{sediment} & = & \\frac{C_i - C_i^e}{A_i}, C_i > C_i^e \\\\\n",
    " \\left( \\frac{\\partial h}{\\partial t} \\right)_{erosion}       & = & -\\frac{C_i}{w_i L_e}, C_i < C_i^e \\\\\n",
    " C_i^e                                                              & = & \\kappa_R s_i Q_i \\\\\n",
    " w_i                                                                & = & w_R \\sqrt{Q_i}\n",
    "\\end{array}\n",
    "$$\n",
    "\n",
    "The **erosion rate** $\\kappa_R$ [-],\n",
    "the slope $s_i$,\n",
    "the channel scale $L_e$,\n",
    "and the runoff $Q$ [m$^3$/s] control the denudation response.\n",
    "\n",
    "| variable       | name             |unit       |\n",
    "|----------------|------------------|-----------|\n",
    "| $h$            | surface          | [m]       |\n",
    "| $t$            | time             | [s]       |\n",
    "| $s_i$          | slope            | [-]       |\n",
    "| $A_i$          | area             | [m$^2$]   |\n",
    "| $w_i$          | river width      | [m]       |\n",
    "| $C_i$          | sediment         | [m$^3$/s] |\n",
    "| $C_i^e$        | carrying capacity| [m$^3$/s] |\n",
    "| **Climate**    | -                |           |\n",
    "|  $Q$           | runoff           | [m$^3$/s] |\n",
    "| **Lithology**  | -                |           |\n",
    "|  $\\kappa_R$    | erosion rate     | [-]       |\n",
    "|  $w_R$         | channel constant | [-]       |\n",
    "|  $L_e$         | channel scale    | [m]       |"
   ]
  },
  {
   "cell_type": "markdown",
   "metadata": {},
   "source": [
    "## Control parameter values"
   ]
  },
  {
   "cell_type": "code",
   "execution_count": null,
   "metadata": {},
   "outputs": [],
   "source": [
    "endtime  = 5.e5            # yr          ! total runtime\n",
    "dtime    = 1.e2            # yr          ! time increment\n",
    "dtsave   = 1.e5            # yr          ! saving interval\n",
    "length   = 100.e3          # m           ! length of profile\n",
    "hmin     = 0.              # m           ! min. topography\n",
    "hmax     = 1000.           # m           ! max. topography\n",
    "uplift   = 0.e-3           # m/s         ! uplift rate\n",
    "rain     = 500.            # mm/yr       ! runoff\n",
    "xkf      = 0.080           # -           ! erosion constant\n",
    "l_BR     = 100.e3          # m           ! bedrock erosion length scale\n",
    "wr       = 0.1             # sqrt(s/m)   ! channel width constant"
   ]
  },
  {
   "cell_type": "markdown",
   "metadata": {},
   "source": [
    "## Create grid and initial topography\n",
    "\n",
    "We first need to rewrite the transport equation into **finite differences**...\n",
    "$$\n",
    "\\begin{array}{rcl}\n",
    "h(t_i) = h(t_{i-1}) +  \\frac{C_i - C_i^e}{A_i} \\Delta t, C_i > C_i^e \\\\\n",
    "h(t_i) = h(t_{i-1}) -  \\frac{C_i}{w_i L_e} \\Delta t, C_i < C_i^e \n",
    "\\end{array}\n",
    "$$\n",
    "\n",
    "The transport part has to be coded explicitly. In 1D, we use a rather simple approach:\n",
    "\n",
    "- We assume, the initial landscape has only one peak (summit).\n",
    "- We first seach for this peak in the topography (use `amax` and `where` from the `numpy` library).\n",
    "- We then define a **left** and a **right** part of the surface, ober which water flows down.\n",
    "- In these two loops, **water** and **sediment** is collected and handed down.\n",
    "\n",
    "Note: In 2D, a more sophisticated approach is needed!"
   ]
  },
  {
   "cell_type": "code",
   "execution_count": null,
   "metadata": {},
   "outputs": [],
   "source": [
    "def erosion_init(nx,length,hmin,hmax):\n",
    "    \"\"\"\n",
    "    function creates an initial 1D topography\n",
    "    over profile length\n",
    "    with hmin and hmax as extreme values\n",
    "    \"\"\"\n",
    "    x    = np.linspace(0,length,nx)\n",
    "    h = np.zeros(nx)\n",
    "    h[x <= 0.4*length] = hmin + (hmax-hmin)*x[x <= 0.4*length] / (0.4*length)\n",
    "    h[x >  0.4*length] = hmin + (hmax-hmin)*(length-x[x >  0.4*length]) / (length-0.4*length)\n",
    "\n",
    "    tsave = np.zeros(10)\n",
    "    topo = np.zeros(10*nx).reshape(10,nx)\n",
    "    tsave[0] = 0.\n",
    "    topo[0,:] = h\n",
    "    print(tsave.shape)\n",
    "    print(topo.shape)\n",
    "    return x,h,tsave,topo\n",
    "\n",
    "nx = 101\n",
    "x,h,tsave,topo = erosion_init(nx,length,hmin,hmax)"
   ]
  },
  {
   "cell_type": "code",
   "execution_count": null,
   "metadata": {},
   "outputs": [],
   "source": [
    "plt.figure(figsize=(12,6))\n",
    "plt.xlim([0,length/1000])\n",
    "plt.ylim([-10,1100])\n",
    "plt.xlabel('Profile [km]')\n",
    "plt.ylabel('Elevation [m]')\n",
    "plt.fill_between(x/1000,-10,topo[0,:],color='gray',alpha=0.6,label=str(int(tsave[0]/1000))+' ka')\n",
    "plt.legend()"
   ]
  },
  {
   "cell_type": "markdown",
   "metadata": {},
   "source": [
    "----\n",
    "## No uplift, temporal evolution"
   ]
  },
  {
   "cell_type": "code",
   "execution_count": null,
   "metadata": {},
   "outputs": [],
   "source": [
    "def erosion_loop(nx,dtime,dtsave,endtime,uplift,length,xkf,l_BR,wr,rain,x,h,tsave,topo):\n",
    "    \"\"\"\n",
    "    function applies long-range processes via a 1D transport equation\n",
    "    over a given time window endtime, distretised into dtime intervals\n",
    "    \"\"\"\n",
    "    dh = np.zeros(nx)\n",
    "    dx = x[1] - x[0]\n",
    "    \n",
    "    time = 0.\n",
    "    save = dtsave\n",
    "    isave = 0\n",
    "\n",
    "    while time < endtime:\n",
    "        # loop over time\n",
    "        time = time + dtime\n",
    "        # apply uplift\n",
    "        h[x <= 0.4*length] = h[x <= 0.4*length] + uplift*dtime*x[x <= 0.4*length] / (0.4*length)\n",
    "        h[x >  0.4*length] = h[x >  0.4*length] + uplift*dtime*(length-x[x >  0.4*length]) / (length-0.4*length)\n",
    "        # check for peak elevation\n",
    "        ipeak = int(np.where(h == np.amax(h))[0])\n",
    "        water = np.ones(nx)*rain*1.e-3*dx**2\n",
    "        sediment = np.zeros(nx)\n",
    "        # right of summit\n",
    "        for i in range(ipeak,nx-1):\n",
    "            channel_slope = (h[i]-h[i+1]) / (np.sqrt((x[i]-x[i+1])**2))\n",
    "        \n",
    "            capacity      = xkf*channel_slope*water[i]*dtime\n",
    "            channel_width = wr*np.sqrt(water[i])\n",
    "            if (sediment[i] >= capacity):\n",
    "                dh[i] = (sediment[i]-capacity) / dx / dx\n",
    "            else:\n",
    "                dh[i] = -capacity / (channel_width*l_BR)\n",
    "                dsedi = -dh[i]*dx*dx\n",
    "                sediment[i] = sediment[i] + dsedi\n",
    "            water[i+1] =water[i+1] + water[i]\n",
    "            sediment[i+1] =sediment[i+1] + sediment[i]\n",
    "        # left of summit\n",
    "        for i in range(ipeak,0,-1):\n",
    "            channel_slope = (h[i]-h[i-1]) / (np.sqrt((x[i]-x[i-1])**2))\n",
    "        \n",
    "            capacity      = xkf*channel_slope*water[i]*dtime\n",
    "            channel_width = wr*np.sqrt(water[i])\n",
    "            if (sediment[i] >= capacity):\n",
    "                dh[i] = (sediment[i]-capacity) / dx / dx\n",
    "            else:\n",
    "                dh[i] = -capacity / (channel_width*l_BR)\n",
    "                dsedi = -dh[i]*dx*dx\n",
    "                sediment[i] = sediment[i] + dsedi\n",
    "            water[i-1] =water[i-1] + water[i]\n",
    "            sediment[i-1] =sediment[i-1] + sediment[i]\n",
    "        \n",
    "        # apply erosion\n",
    "        h = h + dh\n",
    "        # save intermediate time step\n",
    "        if (time==save):\n",
    "            print(save,ipeak)\n",
    "            isave = isave + 1\n",
    "            topo[isave,:] = h\n",
    "            tsave[isave]  = time\n",
    "            save = save + dtsave\n",
    "    return isave,tsave,topo\n",
    "\n",
    "isave,tsave,topo = erosion_loop(nx,dtime,dtsave,endtime,uplift,length,xkf,l_BR,wr,rain,x,h,tsave,topo)"
   ]
  },
  {
   "cell_type": "code",
   "execution_count": null,
   "metadata": {},
   "outputs": [],
   "source": [
    "plt.figure(figsize=(12,6))\n",
    "plt.xlim([0,length/1000])\n",
    "plt.ylim([-10,1100])\n",
    "plt.xlabel('Profile [km]')\n",
    "plt.ylabel('Elevation [m]')\n",
    "plt.fill_between(x/1000,-10,topo[isave,:],color='gray',alpha=0.6,label=str(int(tsave[isave]/1000))+' ka')\n",
    "for i in range(isave-1):\n",
    "    plt.plot(x/1000,topo[i,:],color='black',linestyle='-',label=str(int(tsave[i]/1000))+' ka')\n",
    "plt.legend()"
   ]
  },
  {
   "cell_type": "markdown",
   "metadata": {},
   "source": [
    "----\n",
    "## Uplift, temporal evolution"
   ]
  },
  {
   "cell_type": "code",
   "execution_count": null,
   "metadata": {},
   "outputs": [],
   "source": [
    "endtime  = 5.e5            # yr          ! total runtime\n",
    "dtime    = 1.e2            # yr          ! time increment\n",
    "dtsave   = 1.e5            # yr          ! saving interval\n",
    "length   = 100.e3          # m           ! length of profile\n",
    "hmin     = 0.              # m           ! min. topography\n",
    "hmax     = 100.            # m           ! max. topography\n",
    "uplift   = 2.e-3           # m/s         ! uplift rate\n",
    "\n",
    "x,h,tsave,topo = erosion_init(nx,length,hmin,hmax)\n",
    "isave,tsave,topo = erosion_loop(nx,dtime,dtsave,endtime,uplift,length,xkf,l_BR,wr,rain,x,h,tsave,topo)\n",
    "\n",
    "plt.figure(figsize=(12,6))\n",
    "plt.xlim([0,length/1000])\n",
    "plt.ylim([-10,1100])\n",
    "plt.xlabel('Profile [km]')\n",
    "plt.ylabel('Elevation [m]')\n",
    "plt.fill_between(x/1000,-10,topo[isave,:],color='gray',alpha=0.6,label=str(int(tsave[isave]/1000))+' ka')\n",
    "for i in range(isave-1):\n",
    "    plt.plot(x/1000,topo[i,:],color='black',linestyle='-',label=str(int(tsave[i]/1000))+' ka')\n",
    "plt.legend()"
   ]
  },
  {
   "cell_type": "markdown",
   "metadata": {},
   "source": [
    "... done"
   ]
  }
 ],
 "metadata": {
  "kernelspec": {
   "display_name": "Python 3",
   "language": "python",
   "name": "python3"
  },
  "language_info": {
   "codemirror_mode": {
    "name": "ipython",
    "version": 3
   },
   "file_extension": ".py",
   "mimetype": "text/x-python",
   "name": "python",
   "nbconvert_exporter": "python",
   "pygments_lexer": "ipython3",
   "version": "3.7.3"
  }
 },
 "nbformat": 4,
 "nbformat_minor": 1
}
