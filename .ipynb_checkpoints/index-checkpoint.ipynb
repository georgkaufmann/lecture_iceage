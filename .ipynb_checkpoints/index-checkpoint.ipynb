{
 "cells": [
  {
   "cell_type": "markdown",
   "metadata": {},
   "source": [
    "<table>\n",
    "<tr><td><img style=\"height: 150px;\" src=\"images/geo_hydro1.jpg\"></td>\n",
    "<td bgcolor=\"#FFFFFF\">\n",
    "    <p style=\"font-size: xx-large; font-weight: 900; line-height: 100%\">AG Dynamics of the Earth</p>\n",
    "    <p style=\"font-size: large; color: rgba(0,0,0,0.5);\">Juypter notebooks</p>\n",
    "    <p style=\"font-size: large; color: rgba(0,0,0,0.5);\">Georg Kaufmann</p>\n",
    "    </td>\n",
    "</tr>\n",
    "</table>"
   ]
  },
  {
   "cell_type": "markdown",
   "metadata": {},
   "source": [
    "# Ice-age dynamics\n",
    "----\n",
    "*Georg Kaufmann,\n",
    "Geophysics Section,\n",
    "Institute of Geological Sciences,\n",
    "Freie Universität Berlin,\n",
    "Germany*\n",
    "\n",
    "**Additional jupyter notebooks for lecture**\n",
    "\n",
    "Chapters:\n",
    "\n",
    "- [Ice-age dynamics: Chapter 1: Basic python](IceDyn_chap01_intro.ipynb)\n",
    "- [Ice-age dynamics: Chapter 2: Random numbers](IceDyn_chap02_random.ipynb)\n",
    "- [Ice-age dynamics: Chapter 2: Simple integration](IceDyn_chap02_simpleintegration.ipynb)\n",
    "- [Ice-age dynamics: Chapter 3: Dating](IceDyn_chap03_decay.ipynb)\n",
    "- [Ice-age dynamics: Chapter 4: Paleo-climate](IceDyn_chap04.ipynb)\n",
    "- Ice-age dynamics: Chapter 5: Karst\n",
    "- [Ice-age dynamics: Chapter 6: Earth orbit (sinus)](IceDyn_chap06_sinus.ipynb)\n",
    "- [Ice-age dynamics: Chapter 6: Earth orbit (orbits)](IceDyn_chap06_orbits.ipynb)\n",
    "- [Ice-age dynamics: Chapter 6: Earth orbit (simpleice)](IceDyn_chap06_icevolume.ipynb)\n",
    "- [Ice-age dynamics: Chapter 7: Ice sheets](IceDyn_chap07_simpleice.ipynb)\n",
    "- Ice-age dynamics: Chapter 8: Sea level\n",
    "- Ice-age dynamics: Chapter 9: Landscape"
   ]
  }
 ],
 "metadata": {
  "kernelspec": {
   "display_name": "Python 3",
   "language": "python",
   "name": "python3"
  },
  "language_info": {
   "codemirror_mode": {
    "name": "ipython",
    "version": 3
   },
   "file_extension": ".py",
   "mimetype": "text/x-python",
   "name": "python",
   "nbconvert_exporter": "python",
   "pygments_lexer": "ipython3",
   "version": "3.7.3"
  }
 },
 "nbformat": 4,
 "nbformat_minor": 1
}
