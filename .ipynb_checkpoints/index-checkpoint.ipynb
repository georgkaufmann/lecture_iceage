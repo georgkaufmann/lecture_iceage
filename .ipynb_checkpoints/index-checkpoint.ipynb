{
 "cells": [
  {
   "cell_type": "markdown",
   "metadata": {},
   "source": [
    "# Ice-age dynamics\n",
    "----\n",
    "\n",
    "Additions jupyter notebook for lecture\n",
    "\n",
    "Georg Kaufmann<br>\n",
    "Geophysics Section<br>\n",
    "Institute of Geological Sciences<br>\n",
    "Freie Universität Berlin<br>\n",
    "Germany<br>"
   ]
  }
 ],
 "metadata": {
  "kernelspec": {
   "display_name": "Python 3",
   "language": "python",
   "name": "python3"
  },
  "language_info": {
   "codemirror_mode": {
    "name": "ipython",
    "version": 3
   },
   "file_extension": ".py",
   "mimetype": "text/x-python",
   "name": "python",
   "nbconvert_exporter": "python",
   "pygments_lexer": "ipython3",
   "version": "3.4.8"
  }
 },
 "nbformat": 4,
 "nbformat_minor": 0
}
