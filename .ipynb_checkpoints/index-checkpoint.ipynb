{
 "cells": [
  {
   "cell_type": "markdown",
   "metadata": {},
   "source": [
    "<table>\n",
    "<tr><td><img style=\"height: 150px;\" src=\"images/geo_hydro1.jpg\"></td>\n",
    "<td bgcolor=\"#FFFFFF\">\n",
    "    <p style=\"font-size: xx-large; font-weight: 900; line-height: 100%\">AG Dynamics of the Earth</p>\n",
    "    <p style=\"font-size: large; color: rgba(0,0,0,0.5);\">Jupyter notebooks</p>\n",
    "    <p style=\"font-size: large; color: rgba(0,0,0,0.5);\">Georg Kaufmann</p>\n",
    "    </td>\n",
    "</tr>\n",
    "</table>"
   ]
  },
  {
   "cell_type": "markdown",
   "metadata": {},
   "source": [
    "# Ice-age dynamics\n",
    "----\n",
    "*Georg Kaufmann,\n",
    "Geophysics Section,\n",
    "Institute of Geological Sciences,\n",
    "Freie Universität Berlin,\n",
    "Germany*\n",
    "\n",
    "**Additional jupyter notebooks for lecture**\n",
    "\n",
    "Lectures:\n",
    "\n",
    "- Lecture 1: Ice on Earth\n",
    "    - [Basic python](IceDyn_chap01_intro.ipynb)\n",
    "- Lecture 2: Geomorphology\n",
    "    - [Random numbers](IceDyn_chap02_random.ipynb)\n",
    "    - [Simple integration](IceDyn_chap02_simpleintegration.ipynb)\n",
    "    - [Gauss distribution](IceDyn_chap02_GaussDistribution.ipynb)\n",
    "- Lecture 3: Dating\n",
    "    - [Single decay](IceDyn_chap03_single_decay.ipynb)\n",
    "    - [Decay series](IceDyn_chap03_decay_series.ipynb)\n",
    "    - [Solving differential equations](IceDyn_chap03_solve_ivp.ipynb)\n",
    "    - [Solve decay as differential equation](IceDyn_chap03_solve_decay.ipynb)\n",
    "    - [U/Th disequilibrium](IceDyn_chap03_UTh_disequilibrium.ipynb)\n",
    "- Lecture 4: Paleoclimate\n",
    "    - [Temperature record](IceDyn_chap04_Hohenpeissenberg_temp.ipynb)\n",
    "    - [CO$_2$ and $\\delta$H record](IceDyn_chap04_Antarctica_CO2_dH.ipynb)\n",
    "- Lecture 5: Karst\n",
    "    - [Stable isotopes](IceDyn_chap05_isotopes.ipynb)\n",
    "    - [Rayleigh fractionation](IceDyn_chap05_rayleigh_1sink.ipynb)\n",
    "    - [Carbon isotopes](IceDyn_chap05_rayleigh_2sinks.ipynb)\n",
    "    - [Oxygen isotopes](IceDyn_chap05_rayleigh_3sinks.ipynb)\n",
    "- Lecture 6: Earth orbit\n",
    "    - [Simple sinus](IceDyn_chap06_sinus.ipynb)\n",
    "    - [Spectra]\n",
    "    - [Orbits](IceDyn_chap06_orbits.ipynb)\n",
    "    - [Simple ice-volume models](IceDyn_chap06_icevolume.ipynb)\n",
    "- Lecture 7: Ice models\n",
    "    - [2D Ice sheets](IceDyn_chap07_2Dicemodels.ipynb)\n",
    "- Lecture 8: Sea level\n",
    "    - [Gravity](IceDyn_chap08_gravity.ipynb)\n",
    "    - [Length of day](IceDyn_chap08_rotation.ipynb)\n",
    "- Lecture 9: Landscape\n",
    "    - [1D Flexure](IceDyn_chap09_flexure1D.ipynb)\n",
    "    - [1D Diffusion](IceDyn_chap09_diffusion1D.ipynb)\n",
    "    - [1D Erosion](IceDyn_chap09_erosion1D.ipynb)\n",
    "    - [1D Denudation](IceDyn_chap09_denudation1D.ipynb)\n",
    "- Lecture 10: Glacial isostatic adjustment\n"
   ]
  },
  {
   "cell_type": "markdown",
   "metadata": {},
   "source": [
    "----"
   ]
  }
 ],
 "metadata": {
  "kernelspec": {
   "display_name": "Python 3 (ipykernel)",
   "language": "python",
   "name": "python3"
  },
  "language_info": {
   "codemirror_mode": {
    "name": "ipython",
    "version": 3
   },
   "file_extension": ".py",
   "mimetype": "text/x-python",
   "name": "python",
   "nbconvert_exporter": "python",
   "pygments_lexer": "ipython3",
   "version": "3.11.3"
  }
 },
 "nbformat": 4,
 "nbformat_minor": 4
}
