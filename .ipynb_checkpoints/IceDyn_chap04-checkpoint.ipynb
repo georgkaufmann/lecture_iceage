{
 "cells": [
  {
   "cell_type": "markdown",
   "metadata": {},
   "source": [
    "# Ice-age dynamics: Paleo-climate\n",
    "----\n",
    "*Georg Kaufmann,\n",
    "Geophysics Section,\n",
    "Institute of Geological Sciences,\n",
    "Freie Universität Berlin,\n",
    "Germany*"
   ]
  },
  {
   "cell_type": "markdown",
   "metadata": {},
   "source": [
    "## Yearly temperatures from the Hohenpeissenberg Observatory in Bavaria"
   ]
  },
  {
   "cell_type": "code",
   "execution_count": null,
   "metadata": {
    "collapsed": false
   },
   "outputs": [],
   "source": [
    "%matplotlib inline\n",
    "import numpy as np\n",
    "import matplotlib.pyplot as plt\n",
    "from ipywidgets import interactive\n",
    "import ipywidgets as widgets\n",
    "#-----------------------------------------------------------------------\n",
    "# read data into field\n",
    "#-----------------------------------------------------------------------\n",
    "infile1='data/Hohenpeissenberg.temp'\n",
    "year=np.loadtxt(fname=infile1,skiprows=1,usecols=0)\n",
    "temp=np.loadtxt(fname=infile1,skiprows=1,usecols=1)\n",
    "print (type(temp),temp.shape)\n",
    "\n",
    "#-----------------------------------------------------------------------\n",
    "# define function to plot interactively\n",
    "#-----------------------------------------------------------------------\n",
    "def temp_plot(average):\n",
    "    plt.figure(figsize=(12.0, 6.0))\n",
    "    plt.xlabel('Time [years]',size=12)\n",
    "    plt.ylabel('Temperature [C]',size=12)\n",
    "    plt.title('Annual temperature Hohenpeissenberg observatory',size=12)\n",
    "    yearsum = np.zeros(len(year)-average)\n",
    "    tempsum = np.zeros(len(temp)-average)\n",
    "    print(yearsum.shape)\n",
    "    for i in range(len(temp[:])-average):\n",
    "        yearsum[i] = sum(year[i:i+average]) / float(average)\n",
    "        tempsum[i] = sum(temp[i:i+average]) / float(average)\n",
    "    plt.plot(year,temp,color='red',linestyle='-',linewidth=2)\n",
    "    plt.plot(yearsum,tempsum,color='blue',linestyle='-',linewidth=1.5)\n",
    "    plt.xlim([1750,2004])\n",
    "    plt.ylim([4,10])\n",
    "    plt.show()\n",
    "    \n",
    "# call interactive module\n",
    "interactive_plot = interactive(temp_plot, average=widgets.IntSlider(min=1,max=50,step=1,value=1))\n",
    "output = interactive_plot.children[-1]\n",
    "interactive_plot"
   ]
  },
  {
   "cell_type": "markdown",
   "metadata": {
    "collapsed": true
   },
   "source": [
    "## Stable Hydrogen record in Vostok and Dome C ice cores"
   ]
  },
  {
   "cell_type": "code",
   "execution_count": null,
   "metadata": {
    "collapsed": false
   },
   "outputs": [],
   "source": [
    "%matplotlib inline\n",
    "import numpy as np\n",
    "import matplotlib.pyplot as plt\n",
    "from ipywidgets import interactive\n",
    "import ipywidgets as widgets\n",
    "#-----------------------------------------------------------------------\n",
    "# read data into field\n",
    "#-----------------------------------------------------------------------\n",
    "infile1='data/Vostok_dH.x'\n",
    "year1=np.loadtxt(fname=infile1,skiprows=1,usecols=0)\n",
    "Vostok_dH=np.loadtxt(fname=infile1,skiprows=1,usecols=1)\n",
    "infile2='data/DomeC_dH.x'\n",
    "year2=np.loadtxt(fname=infile2,skiprows=1,usecols=0)\n",
    "DomeC_dH=np.loadtxt(fname=infile2,skiprows=1,usecols=1)\n",
    "\n",
    "#-----------------------------------------------------------------------\n",
    "# define function to plot interactively\n",
    "#-----------------------------------------------------------------------\n",
    "def dH_plot(min,max,vostok,domec):\n",
    "    plt.figure(figsize=(12.0, 6.0))\n",
    "    plt.xlabel('Time [years]',size=12)\n",
    "    plt.ylabel('dH [\\u2030]',size=12)\n",
    "    plt.title('Hydrogen isotope record from ice cores',size=12)\n",
    "    if (vostok):\n",
    "        plt.plot(year1,Vostok_dH,color='red',linestyle='-',linewidth=1,label='Vostok')\n",
    "    if (domec):\n",
    "        plt.plot(year2,DomeC_dH,color='blue',linestyle='-',linewidth=1,label='Dome C')\n",
    "    plt.xlim([min,max])\n",
    "    plt.ylim([-500,-350])\n",
    "    plt.legend(loc='upper right')\n",
    "    plt.show()\n",
    "    \n",
    "# call interactive module\n",
    "interactive_plot = interactive(dH_plot, min=widgets.IntSlider(min=0,max=700000,step=1000,value=1),\n",
    "                                        max=widgets.IntSlider(min=0,max=700000,step=1000,value=700000),\n",
    "                                        vostok=widgets.Checkbox(value=True,description='Vostok',disabled=False),\n",
    "                                        domec=widgets.Checkbox(value=False,description='Dome C',disabled=False))\n",
    "#interactive_plot = interactive(dH_plot,x=widgets.IntRangeSlider(value=[1000, 500000],min=0,max=700000,step=1000))\n",
    "output = interactive_plot.children[-1]\n",
    "interactive_plot"
   ]
  }
 ],
 "metadata": {
  "kernelspec": {
   "display_name": "Python 3",
   "language": "python",
   "name": "python3"
  },
  "language_info": {
   "codemirror_mode": {
    "name": "ipython",
    "version": 3
   },
   "file_extension": ".py",
   "mimetype": "text/x-python",
   "name": "python",
   "nbconvert_exporter": "python",
   "pygments_lexer": "ipython3",
   "version": "3.4.8"
  }
 },
 "nbformat": 4,
 "nbformat_minor": 0
}
