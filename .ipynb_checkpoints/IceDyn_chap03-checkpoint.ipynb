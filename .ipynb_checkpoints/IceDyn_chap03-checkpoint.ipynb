{
 "cells": [
  {
   "cell_type": "markdown",
   "metadata": {},
   "source": [
    "<table>\n",
    "<tr><td><img style=\"height: 150px;\" src=\"images/geo_hydro1.jpg\"></td>\n",
    "<td bgcolor=\"#FFFFFF\">\n",
    "    <p style=\"font-size: xx-large; font-weight: 900; line-height: 100%\">AG Dynamics of the Earth</p>\n",
    "    <p style=\"font-size: large; color: rgba(0,0,0,0.5);\">Juypter notebooks</p>\n",
    "    <p style=\"font-size: large; color: rgba(0,0,0,0.5);\">Georg Kaufmann</p>\n",
    "    </td>\n",
    "</tr>\n",
    "</table>"
   ]
  },
  {
   "cell_type": "markdown",
   "metadata": {},
   "source": [
    "# Ice-age dynamics: Dating\n",
    "----\n",
    "*Georg Kaufmann,\n",
    "Geophysics Section,\n",
    "Institute of Geological Sciences,\n",
    "Freie Universität Berlin,\n",
    "Germany*"
   ]
  },
  {
   "cell_type": "markdown",
   "metadata": {},
   "source": [
    "## Single decay\n",
    "\n",
    "The differential equations for *parent*- and *daugther*-isotopes, $P(t)$ and $D(t)$, read:\n",
    "$$\n",
    "\\begin{array}{rcl}\n",
    "P(t) & = & P_0 e^{\\displaystyle - \\lambda t} \\\\\n",
    "D(t) & = & P_0 \\left( 1 - e^{\\displaystyle - \\lambda t} \\right)\n",
    "\\end{array}\n",
    "$$"
   ]
  },
  {
   "cell_type": "code",
   "execution_count": 1,
   "metadata": {},
   "outputs": [
    {
     "data": {
      "application/vnd.jupyter.widget-view+json": {
       "model_id": "a04805c418844ff6b8b41c7b96d646af",
       "version_major": 2,
       "version_minor": 0
      },
      "text/plain": [
       "HBox(children=(VBox(children=(FloatSlider(value=0.7, description='lambda1', max=2.0, min=0.1),)), Output()))"
      ]
     },
     "metadata": {},
     "output_type": "display_data"
    }
   ],
   "source": [
    "%matplotlib inline\n",
    "from ipywidgets import interactive\n",
    "import ipywidgets as widgets\n",
    "import matplotlib.pyplot as plt\n",
    "import numpy as np\n",
    "\n",
    "def n1n2(lambda1):\n",
    "    # define solutions for parent and daughter isotopes\n",
    "    t = np.linspace(0,20, num=50)\n",
    "    p1 = 100*np.e**(-lambda1*t)\n",
    "    d1 = 100*(1-np.e**(-lambda1*t))\n",
    "    # call plotting functions\n",
    "    plt.figure(figsize=(10.0, 6.0))\n",
    "    plt.title('Single decay')\n",
    "    plt.xlim([0,20])\n",
    "    plt.xlabel('Time [h]')\n",
    "    plt.ylim([-5,105])\n",
    "    plt.ylabel('Amount [%]')\n",
    "    plt.plot(t,p1,linewidth=2,color='red',label='P(t)')\n",
    "    plt.plot(t,d1,linewidth=2,color='blue',label='D(t)')\n",
    "    plt.legend(loc='center right')\n",
    "    plt.show()\n",
    "    \n",
    "# call interactive module\n",
    "w = dict(\n",
    "lambda1=widgets.FloatSlider(min=0.1,max=2.0,step=0.1,value=0.70,description='lambda1'))\n",
    "output = widgets.interactive_output(n1n2, w)\n",
    "box = widgets.HBox([widgets.VBox([*w.values()]), output])\n",
    "display(box)"
   ]
  },
  {
   "cell_type": "markdown",
   "metadata": {},
   "source": [
    "## Decay series\n",
    "\n",
    "The differential equations for *parent*- and *daugther*-isotopes, $P(t)$ and $D(t)$, read:\n",
    "$$\n",
    "\\begin{array}{rcl}\n",
    "P_1(t) & = & P_1^0 e^{\\displaystyle -\\lambda_1 t} \\\\\n",
    "P_2(t) & = & \\frac{\\displaystyle \\lambda_1}{\\displaystyle \\lambda_1 - \\lambda_2} P_1^0 \\left( e^{\\displaystyle -\\lambda_1 t} - e^{\\displaystyle -\\lambda_2 t} \\right)\n",
    "            + P_2^0 e^{\\displaystyle -\\lambda_2 t} \\\\\n",
    "D(t) & = & P_1^0 \\left( 1 \n",
    "                     - \\frac{\\displaystyle \\lambda_2}{\\displaystyle \\lambda_2 - \\lambda_1} e^{\\displaystyle -\\lambda_1 t} \n",
    "                     - \\frac{\\displaystyle \\lambda_1}{\\displaystyle \\lambda_1 - \\lambda_2} e^{\\displaystyle -\\lambda_2 t}\n",
    "                \\right)\n",
    "\\end{array}\n",
    "$$"
   ]
  },
  {
   "cell_type": "code",
   "execution_count": 2,
   "metadata": {},
   "outputs": [
    {
     "data": {
      "application/vnd.jupyter.widget-view+json": {
       "model_id": "2cf61ee9c04a49989e2b553dd9622bf2",
       "version_major": 2,
       "version_minor": 0
      },
      "text/plain": [
       "HBox(children=(VBox(children=(FloatSlider(value=0.7, description='lambda1', max=2.0, min=0.1), FloatSlider(val…"
      ]
     },
     "metadata": {},
     "output_type": "display_data"
    }
   ],
   "source": [
    "%matplotlib inline\n",
    "import ipywidgets as widgets\n",
    "import matplotlib.pyplot as plt\n",
    "import numpy as np\n",
    "\n",
    "def n1n2n3(lambda1,lambda2):\n",
    "    # define solutions for parent and daughter isotopes\n",
    "    if (lambda1 == lambda2):\n",
    "        lambda2 = 0.99*lambda2\n",
    "    t = np.linspace(0,20, num=50)\n",
    "    n1 = 100*np.e**(-lambda1*t)\n",
    "    n2 = 100*lambda1/(lambda2-lambda1)*(np.e**(-lambda1*t) - np.e**(-lambda2*t))\n",
    "    n3 = 100*(1 - lambda2/(lambda2-lambda1)*np.e**(-lambda1*t) - lambda1/(lambda1-lambda2)*np.e**(-lambda2*t))\n",
    "    # call plotting functions\n",
    "    plt.figure(figsize=(10.0, 6.0))\n",
    "    plt.title('Decay series')\n",
    "    plt.xlim([0,20])\n",
    "    plt.xlabel('Time [h]')\n",
    "    plt.ylim([-5,105])\n",
    "    plt.ylabel('Amount [%]')\n",
    "    plt.plot(t,n1,linewidth=2,color='red',label='P$_1$(t)')\n",
    "    plt.plot(t,n2,linewidth=2,color='green',label='P$_2$(t)')\n",
    "    plt.plot(t,n3,linewidth=2,color='blue',label='P$_3$(t)')\n",
    "    plt.legend(loc='center right')\n",
    "    plt.show()\n",
    "    \n",
    "# call interactive module\n",
    "w = dict(\n",
    "lambda1=widgets.FloatSlider(min=0.1,max=2.0,step=0.1,value=0.70,description='lambda1'),\n",
    "lambda2=widgets.FloatSlider(min=0.1,max=10.0,step=0.1,value=0.10,description='lambda2'))\n",
    "\n",
    "output = widgets.interactive_output(n1n2n3, w)\n",
    "box = widgets.HBox([widgets.VBox([*w.values()]), output])\n",
    "display(box)"
   ]
  },
  {
   "cell_type": "code",
   "execution_count": null,
   "metadata": {},
   "outputs": [],
   "source": []
  }
 ],
 "metadata": {
  "kernelspec": {
   "display_name": "Python 3",
   "language": "python",
   "name": "python3"
  },
  "language_info": {
   "codemirror_mode": {
    "name": "ipython",
    "version": 3
   },
   "file_extension": ".py",
   "mimetype": "text/x-python",
   "name": "python",
   "nbconvert_exporter": "python",
   "pygments_lexer": "ipython3",
   "version": "3.7.3"
  }
 },
 "nbformat": 4,
 "nbformat_minor": 1
}
