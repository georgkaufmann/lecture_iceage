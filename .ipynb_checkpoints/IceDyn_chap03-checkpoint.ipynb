{
 "cells": [
  {
   "cell_type": "markdown",
   "metadata": {},
   "source": [
    "<table>\n",
    "<tr><td><img style=\"height: 150px;\" src=\"images/geo_hydro1.jpg\"></td>\n",
    "<td bgcolor=\"#FFFFFF\">\n",
    "    <p style=\"font-size: xx-large; font-weight: 900; line-height: 100%\">AG Dynamics of the Earth</p>\n",
    "    <p style=\"font-size: large; color: rgba(0,0,0,0.5);\">Juypter notebooks</p>\n",
    "    <p style=\"font-size: large; color: rgba(0,0,0,0.5);\">Georg Kaufmann</p>\n",
    "    </td>\n",
    "</tr>\n",
    "</table>"
   ]
  },
  {
   "cell_type": "markdown",
   "metadata": {},
   "source": [
    "# Ice-age dynamics: Dating\n",
    "----\n",
    "*Georg Kaufmann,\n",
    "Geophysics Section,\n",
    "Institute of Geological Sciences,\n",
    "Freie Universität Berlin,\n",
    "Germany*"
   ]
  },
  {
   "cell_type": "markdown",
   "metadata": {},
   "source": [
    "In this notebook, we use the equations on radioactive decay and decay time series derived in the lecture\n",
    "and play with `python` to plot decay time series.\n",
    "\n",
    "We first initialize the `python` libraries."
   ]
  },
  {
   "cell_type": "code",
   "execution_count": null,
   "metadata": {},
   "outputs": [],
   "source": [
    "%matplotlib inline\n",
    "from ipywidgets import interactive\n",
    "import ipywidgets as widgets\n",
    "import matplotlib.pyplot as plt\n",
    "import numpy as np"
   ]
  },
  {
   "cell_type": "markdown",
   "metadata": {},
   "source": [
    "## Single decay\n",
    "\n",
    "The solution to the differential equations for *parent*- and *daugther*-isotopes, $P(t)$ and $D(t)$, read:\n",
    "$$\n",
    "\\begin{array}{rcl}\n",
    "P(t) & = & P_0 e^{\\displaystyle - \\lambda t} \\\\\n",
    "D(t) & = & P_0 \\left( 1 - e^{\\displaystyle - \\lambda t} \\right)\n",
    "\\end{array}\n",
    "$$\n",
    "\n",
    "Here, $t$ [s] is time, and $\\lambda$ [1/s] the *decay constant*. Often, a more illustrative term is\n",
    "the *half-live* $t_{1/2}$ [s], which is defined as:\n",
    "$$\n",
    "t_{1/2} = {{\\ln 2} \\over {\\lambda}}\n",
    "$$"
   ]
  },
  {
   "cell_type": "markdown",
   "metadata": {},
   "source": [
    "Below, we will start plotting **single decay** as defined above with `python`. We define time as an `array`,\n",
    "in our case starting from $t_1=0$ to $t_2=20$, units could be days for example. We discretise this interval\n",
    "$[0,20]$ into 51 points, using the `linspace` command.\n",
    "\n",
    "Next, we calculate both the parent $p1$ and daughter $d1$ isotope functions (see above) for a defined half-live\n",
    "$t_{1/2}$.\n",
    "\n",
    "Finally, we plot the two time series with `matplotlib`. \n",
    "Play with the different commands and change the plot layout!"
   ]
  },
  {
   "cell_type": "code",
   "execution_count": null,
   "metadata": {
    "scrolled": true
   },
   "outputs": [],
   "source": [
    "# define half-live\n",
    "thalf = 1.\n",
    "# define time series as array\n",
    "t = np.linspace(0,20, num=50)\n",
    "# calculate parent and daughter isotope time series\n",
    "p1 = 100*np.e**(-np.log(2)*t/thalf)\n",
    "d1 = 100*(1-np.e**(-np.log(2)*t/thalf))\n",
    "\n",
    "#  plot\n",
    "plt.figure(figsize=(10.0, 6.0))\n",
    "plt.title('Single decay')\n",
    "plt.xlim([0,20])\n",
    "plt.xlabel('Time [h]')\n",
    "plt.ylim([-5,105])\n",
    "plt.ylabel('Amount [%]')\n",
    "plt.plot(t,p1,linewidth=2,color='red',label='P(t)')\n",
    "plt.plot(t,d1,linewidth=2,color='blue',label='D(t)')\n",
    "plt.legend(loc='center right')\n",
    "plt.show()"
   ]
  },
  {
   "cell_type": "markdown",
   "metadata": {},
   "source": [
    "As a next step, we move the calculation and the graphics from the cell above into a function, which\n",
    "we then can call, whenever we want:"
   ]
  },
  {
   "cell_type": "code",
   "execution_count": null,
   "metadata": {},
   "outputs": [],
   "source": [
    "def n1n2(thalf):\n",
    "    # define solutions for parent and daughter isotopes\n",
    "    t = np.linspace(0,20, num=50)\n",
    "    p1 = 100*np.e**(-np.log(2)*t/thalf)\n",
    "    d1 = 100*(1-np.e**(-np.log(2)*t/thalf))\n",
    "    # call plotting functions\n",
    "    plt.figure(figsize=(10.0, 6.0))\n",
    "    plt.title('Single decay')\n",
    "    plt.xlim([0,20])\n",
    "    plt.xlabel('Time [h]')\n",
    "    plt.ylim([-5,105])\n",
    "    plt.ylabel('Amount [%]')\n",
    "    plt.plot(t,p1,linewidth=2,color='red',label='P(t)')\n",
    "    plt.plot(t,d1,linewidth=2,color='blue',label='D(t)')\n",
    "    plt.legend(loc='center right')\n",
    "    plt.show()"
   ]
  },
  {
   "cell_type": "markdown",
   "metadata": {},
   "source": [
    "Check the function`n1n2`by calling it in a cell, changing the half-live:"
   ]
  },
  {
   "cell_type": "code",
   "execution_count": null,
   "metadata": {},
   "outputs": [],
   "source": [
    "n1n2(1.)"
   ]
  },
  {
   "cell_type": "markdown",
   "metadata": {},
   "source": [
    "Last step, becoming a bit more interactive with the `ipywidgets` package, which we imported above.\n",
    "We define the half-live as slider, which will be shown alonside the plot."
   ]
  },
  {
   "cell_type": "code",
   "execution_count": null,
   "metadata": {},
   "outputs": [],
   "source": [
    "# call interactive module\n",
    "w = dict(\n",
    "thalf=widgets.FloatSlider(min=0.1,max=10.0,step=0.1,value=1.00,description='$t_{1/2}$'))\n",
    "output = widgets.interactive_output(n1n2, w)\n",
    "box = widgets.HBox([widgets.VBox([*w.values()]), output])\n",
    "display(box)"
   ]
  },
  {
   "cell_type": "markdown",
   "metadata": {},
   "source": [
    "Now, we move on the the **decay series**, thus implementing three time series, and two sliders, in one go."
   ]
  },
  {
   "cell_type": "markdown",
   "metadata": {},
   "source": [
    "## Decay series\n",
    "\n",
    "The solutions to the differential equations for *parent*- and *daugther*-isotopes, $P(t)$ and $D(t)$, read:\n",
    "$$\n",
    "\\begin{array}{rcl}\n",
    "P_1(t) & = & P_1^0 e^{\\displaystyle -\\lambda_1 t} \\\\\n",
    "P_2(t) & = & \\frac{\\displaystyle \\lambda_1}{\\displaystyle \\lambda_1 - \\lambda_2} P_1^0 \\left( e^{\\displaystyle -\\lambda_1 t} - e^{\\displaystyle -\\lambda_2 t} \\right)\n",
    "            + P_2^0 e^{\\displaystyle -\\lambda_2 t} \\\\\n",
    "D(t) & = & P_1^0 \\left( 1 \n",
    "                     - \\frac{\\displaystyle \\lambda_2}{\\displaystyle \\lambda_2 - \\lambda_1} e^{\\displaystyle -\\lambda_1 t} \n",
    "                     - \\frac{\\displaystyle \\lambda_1}{\\displaystyle \\lambda_1 - \\lambda_2} e^{\\displaystyle -\\lambda_2 t}\n",
    "                \\right)\n",
    "\\end{array}\n",
    "$$"
   ]
  },
  {
   "cell_type": "code",
   "execution_count": null,
   "metadata": {},
   "outputs": [],
   "source": [
    "def n1n2n3(thalf1,thalf2):\n",
    "    # define solutions for parent and daughter isotopes\n",
    "    lambda1 = np.log(2)/thalf1\n",
    "    lambda2 = np.log(2)/thalf2\n",
    "    #if (lambda1 == lambda2):\n",
    "    #    lambda2 = 0.99*lambda2\n",
    "    t = np.linspace(0,20, num=50)\n",
    "    n1 = 100*np.e**(-lambda1*t)\n",
    "    n2 = 100*lambda1/(lambda2-lambda1)*(np.e**(-lambda1*t) - np.e**(-lambda2*t))\n",
    "    n3 = 100*(1 - lambda2/(lambda2-lambda1)*np.e**(-lambda1*t) - lambda1/(lambda1-lambda2)*np.e**(-lambda2*t))\n",
    "    # call plotting functions\n",
    "    plt.figure(figsize=(10.0, 6.0))\n",
    "    plt.title('Decay series')\n",
    "    plt.xlim([0,20])\n",
    "    plt.xlabel('Time [h]')\n",
    "    plt.ylim([-5,105])\n",
    "    plt.ylabel('Amount [%]')\n",
    "    plt.plot(t,n1,linewidth=2,color='red',label='P$_1$(t)')\n",
    "    plt.plot(t,n2,linewidth=2,color='green',label='P$_2$(t)')\n",
    "    plt.plot(t,n3,linewidth=2,color='blue',label='P$_3$(t)')\n",
    "    plt.legend(loc='center right')\n",
    "    plt.show()\n",
    "    \n",
    "# call interactive module\n",
    "w = dict(\n",
    "thalf1=widgets.FloatSlider(min=0.1,max=10.0,step=0.1,value=1.00,description='$t^1_{1/2}$'),\n",
    "thalf2=widgets.FloatSlider(min=0.1,max=10.0,step=0.1,value=7.00,description='$t^2_{1/2}$'))\n",
    "\n",
    "output = widgets.interactive_output(n1n2n3, w)\n",
    "box = widgets.HBox([widgets.VBox([*w.values()]), output])\n",
    "display(box)"
   ]
  },
  {
   "cell_type": "markdown",
   "metadata": {},
   "source": [
    "Note the two lines in the function `n1n2n3` commented out (the if clause). Try in the example above to set both half-lives to the same value. The program will crash, because for $t^1_{1/2}=t^2_{1/2}$, there will be a division through zero in the denominator (check the equations above!). We avoid this problem by checking, if this situation arises, then slightly changing one of the values (by 1%). "
   ]
  }
 ],
 "metadata": {
  "kernelspec": {
   "display_name": "Python 3",
   "language": "python",
   "name": "python3"
  },
  "language_info": {
   "codemirror_mode": {
    "name": "ipython",
    "version": 3
   },
   "file_extension": ".py",
   "mimetype": "text/x-python",
   "name": "python",
   "nbconvert_exporter": "python",
   "pygments_lexer": "ipython3",
   "version": "3.7.3"
  }
 },
 "nbformat": 4,
 "nbformat_minor": 1
}
