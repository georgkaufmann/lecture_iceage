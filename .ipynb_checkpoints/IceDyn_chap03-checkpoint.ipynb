{
 "cells": [
  {
   "cell_type": "markdown",
   "metadata": {},
   "source": [
    "# Ice-age dynamics: Dating\n",
    "----"
   ]
  },
  {
   "cell_type": "markdown",
   "metadata": {},
   "source": [
    "## Single decay\n",
    "\n",
    "The differential equations for *parent*- and *daugther*-isotopes, $P(t)$ and $D(t)$, read:\n",
    "$$\n",
    "\\begin{array}{rcl}\n",
    "P(t) & = & P_0 e^{\\displaystyle - \\lambda t} \\\\\n",
    "D(t) & = & P_0 \\left( 1 - e^{\\displaystyle - \\lambda t} \\right)\n",
    "\\end{array}\n",
    "$$"
   ]
  },
  {
   "cell_type": "code",
   "execution_count": null,
   "metadata": {
    "collapsed": false
   },
   "outputs": [],
   "source": [
    "%matplotlib inline\n",
    "from ipywidgets import interactive\n",
    "import ipywidgets as widgets\n",
    "import matplotlib.pyplot as plt\n",
    "import numpy as np\n",
    "\n",
    "def n1n2(lambda1):\n",
    "    # define solutions for parent and daughter isotopes\n",
    "    t = np.linspace(0,20, num=50)\n",
    "    p1 = 100*np.e**(-lambda1*t)\n",
    "    d1 = 100*(1-np.e**(-lambda1*t))\n",
    "    # call plotting functions\n",
    "    plt.figure(2)\n",
    "    #plt.figure(figsize=(12.0, 6.0))\n",
    "    plt.title('Single decay')\n",
    "    plt.xlim([0,20])\n",
    "    plt.xlabel('Time [h]')\n",
    "    plt.ylim([-5,105])\n",
    "    plt.ylabel('Amount [%]')\n",
    "    plt.plot(t,p1,linewidth=2,color='red',label='P(t)')\n",
    "    plt.plot(t,d1,linewidth=2,color='blue',label='D(t)')\n",
    "    plt.legend(loc='center right')\n",
    "    plt.show()\n",
    "    \n",
    "# call interactive module\n",
    "interactive_plot = interactive(n1n2, lambda1=widgets.FloatSlider(min=0.1,max=2.0,step=0.1,value=0.70))\n",
    "output = interactive_plot.children[-1]\n",
    "interactive_plot"
   ]
  },
  {
   "cell_type": "markdown",
   "metadata": {},
   "source": [
    "## Decay series\n",
    "\n",
    "The differential equations for *parent*- and *daugther*-isotopes, $P(t)$ and $D(t)$, read:\n",
    "$$\n",
    "\\begin{array}{rcl}\n",
    "P_1(t) & = & P_1^0 e^{\\displaystyle -\\lambda_1 t} \\\\\n",
    "P_2(t) & = & \\frac{\\displaystyle \\lambda_1}{\\displaystyle \\lambda_1 - \\lambda_2} P_1^0 \\left( e^{\\displaystyle -\\lambda_1 t} - e^{\\displaystyle -\\lambda_2 t} \\right)\n",
    "            + P_2^0 e^{\\displaystyle -\\lambda_2 t} \\\\\n",
    "D(t) & = & P_1^0 \\left( 1 \n",
    "                     - \\frac{\\displaystyle \\lambda_2}{\\displaystyle \\lambda_2 - \\lambda_1} e^{\\displaystyle -\\lambda_1 t} \n",
    "                     - \\frac{\\displaystyle \\lambda_1}{\\displaystyle \\lambda_1 - \\lambda_2} e^{\\displaystyle -\\lambda_2 t}\n",
    "                \\right)\n",
    "\\end{array}\n",
    "$$"
   ]
  },
  {
   "cell_type": "code",
   "execution_count": null,
   "metadata": {
    "collapsed": false
   },
   "outputs": [],
   "source": [
    "%matplotlib inline\n",
    "from ipywidgets import interactive\n",
    "import ipywidgets as widgets\n",
    "import matplotlib.pyplot as plt\n",
    "import numpy as np\n",
    "\n",
    "def n1n2n3(lambda1,lambda2):\n",
    "    # define solutions for parent and daughter isotopes\n",
    "    t = np.linspace(0,20, num=50)\n",
    "    n1 = 100*np.e**(-lambda1*t)\n",
    "    n2 = 100*lambda1/(lambda2-lambda1)*(np.e**(-lambda1*t) - np.e**(-lambda2*t))\n",
    "    n3 = 100*(1 - lambda2/(lambda2-lambda1)*np.e**(-lambda1*t) - lambda1/(lambda1-lambda2)*np.e**(-lambda2*t))\n",
    "    # call plotting functions\n",
    "    plt.figure(2)\n",
    "    #plt.figure(figsize=(12.0, 6.0))\n",
    "    plt.title('Decay series')\n",
    "    plt.xlim([0,20])\n",
    "    plt.xlabel('Time [h]')\n",
    "    plt.ylim([-5,105])\n",
    "    plt.ylabel('Amount [%]')\n",
    "    plt.plot(t,n1,linewidth=2,color='red',label='P$_1$(t)')\n",
    "    plt.plot(t,n2,linewidth=2,color='green',label='P$_2$(t)')\n",
    "    plt.plot(t,n3,linewidth=2,color='blue',label='P$_3$(t)')\n",
    "    plt.legend(loc='center right')\n",
    "    plt.show()\n",
    "    \n",
    "# call interactive module\n",
    "interactive_plot = interactive(n1n2n3, lambda1=widgets.FloatSlider(min=0.1,max=2.0,step=0.1,value=0.70),\n",
    "                                       lambda2=widgets.FloatSlider(min=0.1,max=10.0,step=0.1,value=0.15))\n",
    "output = interactive_plot.children[-1]\n",
    "interactive_plot"
   ]
  },
  {
   "cell_type": "code",
   "execution_count": null,
   "metadata": {
    "collapsed": true
   },
   "outputs": [],
   "source": []
  }
 ],
 "metadata": {
  "kernelspec": {
   "display_name": "Python 3",
   "language": "python",
   "name": "python3"
  },
  "language_info": {
   "codemirror_mode": {
    "name": "ipython",
    "version": 3
   },
   "file_extension": ".py",
   "mimetype": "text/x-python",
   "name": "python",
   "nbconvert_exporter": "python",
   "pygments_lexer": "ipython3",
   "version": "3.4.8"
  }
 },
 "nbformat": 4,
 "nbformat_minor": 0
}
