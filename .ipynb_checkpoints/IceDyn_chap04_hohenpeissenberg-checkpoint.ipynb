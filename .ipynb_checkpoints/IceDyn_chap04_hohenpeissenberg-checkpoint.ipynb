{
 "cells": [
  {
   "cell_type": "markdown",
   "metadata": {},
   "source": [
    "<table>\n",
    "<tr><td><img style=\"height: 150px;\" src=\"images/geo_hydro1.jpg\"></td>\n",
    "<td bgcolor=\"#FFFFFF\">\n",
    "    <p style=\"font-size: xx-large; font-weight: 900; line-height: 100%\">AG Dynamics of the Earth</p>\n",
    "    <p style=\"font-size: large; color: rgba(0,0,0,0.5);\">Juypter notebooks</p>\n",
    "    <p style=\"font-size: large; color: rgba(0,0,0,0.5);\">Georg Kaufmann</p>\n",
    "    </td>\n",
    "</tr>\n",
    "</table>"
   ]
  },
  {
   "cell_type": "markdown",
   "metadata": {},
   "source": [
    "# Ice-age dynamics: 4. Paleo-climate\n",
    "## Temperature record\n",
    "----\n",
    "*Georg Kaufmann,\n",
    "Geophysics Section,\n",
    "Institute of Geological Sciences,\n",
    "Freie Universität Berlin,\n",
    "Germany*"
   ]
  },
  {
   "cell_type": "markdown",
   "metadata": {},
   "source": [
    "In this notebook, we play with a temperature record from the german observatory **Hohenpeissenberg**\n",
    "in Bavaria, and derive some filter examples, using `python`.\n",
    "\n",
    "We first initialize the `python` libraries."
   ]
  },
  {
   "cell_type": "code",
   "execution_count": null,
   "metadata": {},
   "outputs": [],
   "source": [
    "import numpy as np\n",
    "import matplotlib.pyplot as plt\n",
    "import ipywidgets as widgets"
   ]
  },
  {
   "cell_type": "markdown",
   "metadata": {},
   "source": [
    "## Yearly temperatures from the Hohenpeissenberg Observatory in Bavaria"
   ]
  },
  {
   "cell_type": "markdown",
   "metadata": {},
   "source": [
    "Next, read read in the data. In the `data` folder, there is a file called `Hohenpeissenberg.temp`. It's \n",
    "structure is:\n",
    "\n",
    "| year      | temp|\n",
    "|-----------|-----|\n",
    "| 1781      | 7.14|\n",
    "| 1782      | 5.63|\n",
    "\n",
    "A header line, then two colums of data, one for the year, on is temperature.\n",
    "\n",
    "We read this file in with the `loadtxt` module of `numpy`. Note that we read is in twice,\n",
    "once for the first column, once for the second column. \n",
    "Of course, there are more elegant ways to perform this task ..."
   ]
  },
  {
   "cell_type": "code",
   "execution_count": null,
   "metadata": {},
   "outputs": [],
   "source": [
    "#-----------------------------------------------------------------------\n",
    "# read data into field\n",
    "#-----------------------------------------------------------------------\n",
    "infile1='data/Hohenpeissenberg.temp'\n",
    "year=np.loadtxt(fname=infile1,skiprows=1,usecols=0)\n",
    "temp=np.loadtxt(fname=infile1,skiprows=1,usecols=1)\n",
    "print (type(year),year.shape)\n",
    "print (type(temp),temp.shape)"
   ]
  },
  {
   "cell_type": "markdown",
   "metadata": {},
   "source": [
    "Next, we plot the data. To be more flexible, we embed the entire plotting task to a function. As last line, we call the function to test it."
   ]
  },
  {
   "cell_type": "code",
   "execution_count": null,
   "metadata": {},
   "outputs": [],
   "source": [
    "#-----------------------------------------------------------------------\n",
    "# define function to plot \n",
    "#-----------------------------------------------------------------------\n",
    "def temp_plot():\n",
    "    plt.figure(figsize=(10.0, 6.0))\n",
    "    plt.xlabel('Time [years]',size=12)\n",
    "    plt.ylabel('Temperature [C]',size=12)\n",
    "    plt.title('Annual temperature Hohenpeissenberg observatory',size=12)\n",
    "    plt.plot(year,temp,color='red',linestyle='-',linewidth=2)\n",
    "    plt.xlim([1750,2004])\n",
    "    plt.ylim([4,10])\n",
    "    plt.show()\n",
    "    \n",
    "temp_plot()"
   ]
  },
  {
   "cell_type": "markdown",
   "metadata": {},
   "source": [
    "We now modify the function to calculate a second field, the running average. Note the difference:\n",
    "\n",
    "- The argument `average` is added, the average years to smooth over.\n",
    "\n",
    "- Two fields, `yearsum` and `tempsum` are introduced for the averages.\n",
    "\n",
    "- Then we run a loop over all data (minus the average number not to overshoot), sum up over the\n",
    "averaged values, divide by the average, and plot this second function (last line)."
   ]
  },
  {
   "cell_type": "code",
   "execution_count": null,
   "metadata": {},
   "outputs": [],
   "source": [
    "#-----------------------------------------------------------------------\n",
    "# define function to plot interactively\n",
    "#-----------------------------------------------------------------------\n",
    "def temp_plot(average):\n",
    "    plt.figure(figsize=(10.0, 6.0))\n",
    "    plt.xlabel('Time [years]',size=12)\n",
    "    plt.ylabel('Temperature [C]',size=12)\n",
    "    plt.title('Annual temperature Hohenpeissenberg observatory',size=12)\n",
    "    yearsum = np.zeros(len(year)-average)\n",
    "    tempsum = np.zeros(len(temp)-average)\n",
    "    #print(yearsum.shape)\n",
    "    for i in range(len(temp[:])-average):\n",
    "        yearsum[i] = sum(year[i:i+average]) / float(average)\n",
    "        tempsum[i] = sum(temp[i:i+average]) / float(average)\n",
    "    plt.plot(year,temp,color='red',linestyle='-',linewidth=2)\n",
    "    plt.plot(yearsum,tempsum,color='blue',linestyle='-',linewidth=4)\n",
    "    plt.xlim([1750,2004])\n",
    "    plt.ylim([4,10])\n",
    "    plt.show()\n",
    "\n",
    "temp_plot(10)"
   ]
  },
  {
   "cell_type": "markdown",
   "metadata": {},
   "source": [
    "Finally, we embed this plotting function into `ipywidgets` interactive module to provide\n",
    "a slider."
   ]
  },
  {
   "cell_type": "code",
   "execution_count": null,
   "metadata": {},
   "outputs": [],
   "source": [
    "# call interactive module\n",
    "w = dict(average=widgets.IntSlider(min=1,max=50,step=1,value=2,continuous_update=False,description='no of years'))\n",
    "output = widgets.interactive_output(temp_plot, w)\n",
    "box = widgets.HBox([widgets.VBox([*w.values()]), output])\n",
    "display(box)"
   ]
  },
  {
   "cell_type": "markdown",
   "metadata": {
    "collapsed": true
   },
   "source": [
    "## Stable Hydrogen record in Vostok and Dome C ice cores\n",
    "\n",
    "Here is another example from the lecture, the stable hydrogen records from the **Vostok** and the \n",
    "**Dome C** ice cores.\n",
    "\n",
    "Note the use of different interactive elements, the *range slider* and the *checkbox*!"
   ]
  },
  {
   "cell_type": "code",
   "execution_count": null,
   "metadata": {},
   "outputs": [],
   "source": [
    "#-----------------------------------------------------------------------\n",
    "# read data into field\n",
    "#-----------------------------------------------------------------------\n",
    "infile1='data/Vostok_dH.x'\n",
    "year1=np.loadtxt(fname=infile1,skiprows=1,usecols=0)\n",
    "Vostok_dH=np.loadtxt(fname=infile1,skiprows=1,usecols=1)\n",
    "infile2='data/DomeC_dH.x'\n",
    "year2=np.loadtxt(fname=infile2,skiprows=1,usecols=0)\n",
    "DomeC_dH=np.loadtxt(fname=infile2,skiprows=1,usecols=1)\n",
    "\n",
    "#-----------------------------------------------------------------------\n",
    "# define function to plot interactively\n",
    "#-----------------------------------------------------------------------\n",
    "def dH_plot(minmax,vostok,domec):\n",
    "    min = minmax[0]\n",
    "    max = minmax[1]\n",
    "    plt.figure(figsize=(12.0, 6.0))\n",
    "    plt.xlabel('Time [years]',size=12)\n",
    "    plt.ylabel('$\\delta$H [\\u2030]',size=12)\n",
    "    plt.title('Hydrogen isotope record from ice cores',size=12)\n",
    "    if (vostok):\n",
    "        plt.plot(year1,Vostok_dH,color='red',linestyle='-',linewidth=1,label='Vostok')\n",
    "    if (domec):\n",
    "        plt.plot(year2,DomeC_dH,color='blue',linestyle='-',linewidth=1,label='Dome C')\n",
    "    plt.xlim([min,max])\n",
    "    plt.ylim([-500,-350])\n",
    "    plt.legend(loc='upper right')\n",
    "    plt.show()\n",
    "    \n",
    "# call interactive module\n",
    "w = dict(minmax=widgets.IntRangeSlider(min=0,max=700000,step=1000,value=[1,700000],continuous_update=False,description='time (years)'),\n",
    "         vostok=widgets.Checkbox(value=True,description='Vostok',disabled=False),\n",
    "         domec=widgets.Checkbox(value=False,description='Dome C',disabled=False))\n",
    "output = widgets.interactive_output(dH_plot, w)\n",
    "box = widgets.VBox([widgets.HBox([*w.values()]), output])\n",
    "display(box)"
   ]
  },
  {
   "cell_type": "markdown",
   "metadata": {},
   "source": [
    "... done"
   ]
  }
 ],
 "metadata": {
  "kernelspec": {
   "display_name": "Python 3",
   "language": "python",
   "name": "python3"
  },
  "language_info": {
   "codemirror_mode": {
    "name": "ipython",
    "version": 3
   },
   "file_extension": ".py",
   "mimetype": "text/x-python",
   "name": "python",
   "nbconvert_exporter": "python",
   "pygments_lexer": "ipython3",
   "version": "3.7.3"
  }
 },
 "nbformat": 4,
 "nbformat_minor": 1
}
