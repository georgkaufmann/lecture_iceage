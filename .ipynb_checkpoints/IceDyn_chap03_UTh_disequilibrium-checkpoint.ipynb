{
 "cells": [
  {
   "cell_type": "markdown",
   "metadata": {},
   "source": [
    "<table>\n",
    "<tr><td><img style=\"height: 150px;\" src=\"images/geo_hydro1.jpg\"></td>\n",
    "<td bgcolor=\"#FFFFFF\">\n",
    "    <p style=\"font-size: xx-large; font-weight: 900; line-height: 100%\">AG Dynamics of the Earth</p>\n",
    "    <p style=\"font-size: large; color: rgba(0,0,0,0.5);\">Jupyter notebooks</p>\n",
    "    <p style=\"font-size: large; color: rgba(0,0,0,0.5);\">Georg Kaufmann</p>\n",
    "    </td>\n",
    "</tr>\n",
    "</table>"
   ]
  },
  {
   "cell_type": "markdown",
   "metadata": {},
   "source": [
    "# Ice-age dynamics: 3. Dating\n",
    "## U/Th disequilibrium\n",
    "----\n",
    "*Georg Kaufmann,\n",
    "Geophysics Section,\n",
    "Institute of Geological Sciences,\n",
    "Freie Universität Berlin,\n",
    "Germany*"
   ]
  },
  {
   "cell_type": "markdown",
   "metadata": {},
   "source": [
    "In this notebook, we plot the evolution pathways for **Uranium** and **Thorium** after disturbing\n",
    "the equilibrium. \n",
    "\n",
    "We first initialize the `python` libraries."
   ]
  },
  {
   "cell_type": "code",
   "execution_count": 15,
   "metadata": {},
   "outputs": [],
   "source": [
    "import numpy as np\n",
    "import matplotlib.pyplot as plt\n",
    "from ipywidgets import interactive\n",
    "import ipywidgets as widgets"
   ]
  },
  {
   "cell_type": "markdown",
   "metadata": {},
   "source": [
    "----\n",
    "## U/Th series\n",
    "\n",
    "$$\n",
    " \\fbox{${}^{238}\\mbox{U}$} {\\stackrel{\\lambda_{238}} \\longrightarrow}\n",
    " {}^{234}\\mbox{Th} {\\stackrel{ } \\longrightarrow}\n",
    " {}^{234}\\mbox{Pa} {\\stackrel{ } \\longrightarrow}\n",
    " \\fbox{${}^{234}\\mbox{U}$} {\\stackrel{ \\lambda_{234}} \\longrightarrow}\n",
    " \\fbox{${}^{230}\\mbox{Th}$} {\\stackrel{ \\lambda_{230}} \\longrightarrow}\n",
    " {}^{226}\\mbox{Ra} {\\stackrel{ } \\longrightarrow} \\dots\n",
    "                   {\\stackrel{ } \\longrightarrow} {}^{206}\\mbox{Pb}\n",
    "$$\n",
    "\n",
    "In limestone, all isotopes are in **secular equilibrium** because of the long half-life of ${}^{238}$U.\n",
    "\n",
    "----\n",
    "## U/Th disequilibrium\n",
    "\n",
    "- Secular equilibrium **disturbed* during **dissolution** of limestone.\n",
    "- **Uranian isotopes** ${}^{238}\\mbox{U}$ and ${}^{234}\\mbox{U}$ **hydrophile**, enriched in solution.\n",
    "- **Thorium** ${}^{230}\\mbox{Th}$ **lithophile**, bound to clay minerals.\n",
    "- ${}^{234}\\mbox{U}$ decay product of ${}^{238}\\mbox{U}$. Deformation of crystal lattice through **rebounce**.\n",
    "- Solution **enriched** with (deformed) ${}^{234}\\mbox{U}$  relative to ${}^{238}\\mbox{U}$, no ${}^{230}\\mbox{Th}$.\n",
    "\n",
    "$$\n",
    "\\begin{array}{rcl}\n",
    " \\frac{[{}^{234}\\mbox{U}]}{[{}^{238}\\mbox{U}]} & > & 1 \\\\\n",
    " [{}^{230}\\mbox{Th}]                                 & = & 0\n",
    "\\end{array}\n",
    "$$\n",
    "\n",
    "## Back to equilibrium ...\n",
    "$$\n",
    "\\begin{array}{rcl}\n",
    "\\left( \\frac{{}^{234}\\mbox{U}}{{}^{238}\\mbox{U}} \\right) &=&\n",
    " 1 + \\left[ \\left( \\frac{{}^{234}\\mbox{U}_0}{{}^{238}\\mbox{U}} \\right) - 1 \\right] e^{-\\lambda_{234} t} \\\\\n",
    " \\left( \\frac{{}^{230}\\mbox{Th}}{{}^{234}\\mbox{U}} \\right) & = &\n",
    "   \\left( \\frac{{}^{234}\\mbox{U}}{{}^{238}\\mbox{U}} \\right)^{-1} \\left( 1 - e^{-\\lambda_{230} t} \\right) \\\\\n",
    " &+& \\left[ 1 - \\left( \\frac{{}^{234}\\mbox{U}}{{}^{238}\\mbox{U}} \\right)^{-1} \\right]\n",
    "   \\frac{\\lambda_{230}}{\\lambda_{230}- \\lambda_{234}}\n",
    " \\left( 1- e^{(\\lambda_{234}-\\lambda_{230}) t} \\right)\n",
    "\\end{array}\n",
    "$$"
   ]
  },
  {
   "cell_type": "code",
   "execution_count": 16,
   "metadata": {
    "tags": []
   },
   "outputs": [],
   "source": [
    "U234U238_0  = 1.2\n",
    "Th230U234_0 = 0.\n",
    " \n",
    "lambda238 = 1.551e-10 # a^-1\n",
    "lambda234 = 2.794e-6  # a^-1\n",
    "lambda230 = 9.217e-6  # a^-1"
   ]
  },
  {
   "cell_type": "code",
   "execution_count": 20,
   "metadata": {
    "tags": []
   },
   "outputs": [],
   "source": [
    "times     = np.linspace(1e3,2e6,501)\n",
    "U234U238  = np.zeros_like(times)\n",
    "Th230U234 = np.zeros_like(times)\n",
    "for i,time in enumerate(times):\n",
    "    U234U238[i]  = 1. + (U234U238_0-1.)*np.exp(-lambda234*time)\n",
    "    Th230U234[i] = (1. - np.exp(-lambda230*time)) / U234U238[i] \n",
    "    + (1. - 1./U234U238[i]) * lambda230 / (lambda230-lambda234) * (1.-np.exp((lambda234-lambda230)*time))\n"
   ]
  },
  {
   "cell_type": "code",
   "execution_count": 26,
   "metadata": {
    "tags": []
   },
   "outputs": [
    {
     "data": {
      "text/plain": [
       "<matplotlib.legend.Legend at 0x11fd3f410>"
      ]
     },
     "execution_count": 26,
     "metadata": {},
     "output_type": "execute_result"
    },
    {
     "data": {
      "image/png": "[encoded data removed]",
      "text/plain": [
       "<Figure size 1000x400 with 1 Axes>"
      ]
     },
     "metadata": {},
     "output_type": "display_data"
    }
   ],
   "source": [
    "plt.figure(figsize=(10,4))\n",
    "plt.xlabel('Time [ka]')\n",
    "plt.ylabel('Activity ratio')\n",
    "plt.xscale('log')\n",
    "plt.plot([times.min()/1000,times.max()/1000],[1.,1.],linewidth=4,color='gray')\n",
    "plt.plot(times/1000,U234U238,linewidth=2,color='blue',label='($^{234}$U/$^{238}$U)')\n",
    "plt.plot(times/1000,Th230U234,linewidth=2,color='red',label='($^{230}$Th/$^{234}$U)')\n",
    "\n",
    "plt.grid()\n",
    "plt.legend()"
   ]
  },
  {
   "cell_type": "markdown",
   "metadata": {},
   "source": [
    "----"
   ]
  }
 ],
 "metadata": {
  "kernelspec": {
   "display_name": "Python 3 (ipykernel)",
   "language": "python",
   "name": "python3"
  },
  "language_info": {
   "codemirror_mode": {
    "name": "ipython",
    "version": 3
   },
   "file_extension": ".py",
   "mimetype": "text/x-python",
   "name": "python",
   "nbconvert_exporter": "python",
   "pygments_lexer": "ipython3",
   "version": "3.11.3"
  }
 },
 "nbformat": 4,
 "nbformat_minor": 4
}
