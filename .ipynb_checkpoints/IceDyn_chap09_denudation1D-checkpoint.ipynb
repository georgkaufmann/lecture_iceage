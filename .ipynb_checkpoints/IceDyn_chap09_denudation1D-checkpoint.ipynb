{
 "cells": [
  {
   "cell_type": "markdown",
   "metadata": {},
   "source": [
    "<table>\n",
    "<tr><td><img style=\"height: 150px;\" src=\"images/geo_hydro1.jpg\"></td>\n",
    "<td bgcolor=\"#FFFFFF\">\n",
    "    <p style=\"font-size: xx-large; font-weight: 900; line-height: 100%\">AG Dynamics of the Earth</p>\n",
    "    <p style=\"font-size: large; color: rgba(0,0,0,0.5);\">Jupyter notebooks</p>\n",
    "    <p style=\"font-size: large; color: rgba(0,0,0,0.5);\">Georg Kaufmann</p>\n",
    "    </td>\n",
    "</tr>\n",
    "</table>"
   ]
  },
  {
   "cell_type": "markdown",
   "metadata": {},
   "source": [
    "# Ice-age dynamics: 9. Landscape\n",
    "## Denudation (chemical weathering)\n",
    "----\n",
    "*Georg Kaufmann,\n",
    "Geophysics Section,\n",
    "Institute of Geological Sciences,\n",
    "Freie Universität Berlin,\n",
    "Germany*"
   ]
  },
  {
   "cell_type": "markdown",
   "metadata": {},
   "source": [
    "In this notebook, we model **chemical weathering** with a **transport equation**.\n",
    "\n",
    "We first initialize the `python` libraries."
   ]
  },
  {
   "cell_type": "code",
   "execution_count": null,
   "metadata": {},
   "outputs": [],
   "source": [
    "import numpy as np\n",
    "import matplotlib.pyplot as plt\n",
    "import ipywidgets as widgets"
   ]
  },
  {
   "cell_type": "markdown",
   "metadata": {},
   "source": [
    "## Model\n",
    "\n",
    "$$\n",
    "\\left( \\frac{\\partial h}{\\partial t} \\right)_{denudation} = -\\kappa_C \\frac{Q}{A}\n",
    "$$\n",
    "\n",
    "The **denudation rate** $\\kappa_C$ [-] and the runoff $Q$ [m$^3$/s] control the denudation response.\n",
    "\n",
    "| variable       | name             |unit       |\n",
    "|----------------|------------------|-----------|\n",
    "| $h$            | surface          | [m]       |\n",
    "| $t$            | time             | [s]       |\n",
    "| $\\nabla$       | Nabla operator   | [1/m]     |\n",
    "| **Climate**    | -                | -         |\n",
    "| $Q$            | discharge        | [m$^3$/s] |\n",
    "| $\\kappa_C$     | denudation rate  | [-]       |\n",
    "| **Lithology**  | -                | -         |\n",
    "| $\\kappa_C$     | denudation rate  | [-]       |\n",
    "\n",
    "The **denudation rate** depends on temperature $T$ [C] and carbon-dioxide pressue $pCO_2$ [atm],\n",
    "see also notebook on karst. It is defined as:\n",
    "$$\n",
    "\\kappa_C = [c_{eq}(T,pCO_2)] \\frac{m_{rock}}{\\rho_{rock}}\n",
    "$$\n",
    "with $c_{eq}$ [mol/m$^3$] the calcium equilibrium concentration,\n",
    "$m_{rock}$ the molar mass of the soluble rock, and\n",
    "$\\rho_{rock}$ the density of the rock."
   ]
  },
  {
   "cell_type": "markdown",
   "metadata": {},
   "source": [
    "## Control parameter values"
   ]
  },
  {
   "cell_type": "code",
   "execution_count": null,
   "metadata": {},
   "outputs": [],
   "source": [
    "endtime  = 5.e5            # yr          ! total runtime\n",
    "dtime    = 1.e2            # yr          ! time increment\n",
    "dtsave   = 1.e5            # yr          ! saving interval\n",
    "length   = 100.e3          # m           ! length of profile\n",
    "hmin     = 0.              # m           ! min. topography\n",
    "hmax     = 1000.           # m           ! max. topography\n",
    "uplift   = 0.e-3           # m/s         ! uplift rate\n",
    "xkc      = [0.665,1.61,2.67]            # -           ! denudation rate (T=10C,p=0.0004,0.005,0.01atm)\n",
    "rain     = 500.            # mm/yr       ! runoff\n",
    "temperature = 10.          # C           ! tempearature\n",
    "co2pressure = 0.0004       # atm         ! CO2 pressure\n",
    "#co2pressure = 0.0050       # atm         ! CO2 pressure\n",
    "#co2pressure = 0.0100       # atm         ! CO2 pressure\n",
    "atomic_mass = 0.1001       # kg/mol      ! atomic mass calcite\n",
    "rhocalcite  = 2700.        # kg/m^3      ! density calcite"
   ]
  },
  {
   "cell_type": "markdown",
   "metadata": {},
   "source": [
    "## Create grid and initial topography\n",
    "\n",
    "We first need to rewrite the **finite differences**...\n",
    "$$\n",
    "\\frac{h(t_i)-h(t_{i-1})}{\\Delta t} = \\kappa_C \\frac{Q}{A}\n",
    "$$\n",
    "... and finally\n",
    "$$\n",
    "h(t_i) = h(t_{i-1}) + \\kappa_C \\frac{Q}{A} \\Delta t\n",
    "$$"
   ]
  },
  {
   "cell_type": "code",
   "execution_count": null,
   "metadata": {},
   "outputs": [],
   "source": [
    "def denudation_init(nx,length,hmin,hmax):\n",
    "    \"\"\"\n",
    "    function creates an initial 1D topography\n",
    "    over profile length\n",
    "    with hmin and hmax as extreme values\n",
    "    \"\"\"\n",
    "    x    = np.linspace(0,length,nx)\n",
    "    h = np.zeros(nx)\n",
    "    h[x <= 0.4*length] = hmin + (hmax-hmin)*x[x <= 0.4*length] / (0.4*length)\n",
    "    h[x >  0.4*length] = hmin + (hmax-hmin)*(length-x[x >  0.4*length]) / (length-0.4*length)\n",
    "\n",
    "    tsave = np.zeros(10)\n",
    "    topo = np.zeros(10*nx).reshape(10,nx)\n",
    "    tsave[0] = 0.\n",
    "    topo[0,:] = h\n",
    "    print(tsave.shape)\n",
    "    print(topo.shape)\n",
    "    return x,h,tsave,topo\n",
    "\n",
    "nx = 101\n",
    "x,h,tsave,topo = denudation_init(nx,length,hmin,hmax)"
   ]
  },
  {
   "cell_type": "code",
   "execution_count": null,
   "metadata": {},
   "outputs": [],
   "source": [
    "plt.figure(figsize=(12,6))\n",
    "plt.xlim([0,length/1000])\n",
    "plt.ylim([-10,1100])\n",
    "plt.xlabel('Profile [km]')\n",
    "plt.ylabel('Elevation [m]')\n",
    "plt.fill_between(x/1000,-10,topo[0,:],color='gray',alpha=0.6,label=str(int(tsave[0]/1000))+' ka')\n",
    "plt.legend()"
   ]
  },
  {
   "cell_type": "markdown",
   "metadata": {},
   "source": [
    "----\n",
    "## No uplift, temporal evolution"
   ]
  },
  {
   "cell_type": "code",
   "execution_count": null,
   "metadata": {},
   "outputs": [],
   "source": [
    "def denudation_loop(nx,dtime,dtsave,endtime,uplift,length,xkc,atomic_mass,rhocalcite,rain,x,h,tsave,topo):\n",
    "    \"\"\"\n",
    "    function applies long-range chemical weathering processes via a 1D transport equation\n",
    "    over a given time window endtime, distretised into dtime intervals\n",
    "    \"\"\"\n",
    "    dh = np.zeros(nx)\n",
    "    dx = x[1] - x[0]\n",
    "    \n",
    "    time = 0.\n",
    "    save = dtsave\n",
    "    isave = 0\n",
    "\n",
    "    while time < endtime:\n",
    "        # loop over time\n",
    "        time = time + dtime\n",
    "        # apply uplift\n",
    "        h[x <= 0.4*length] = h[x <= 0.4*length] + uplift*dtime*x[x <= 0.4*length] / (0.4*length)\n",
    "        h[x >  0.4*length] = h[x >  0.4*length] + uplift*dtime*(length-x[x >  0.4*length]) / (length-0.4*length)\n",
    "        # check for peak elevation\n",
    "        ipeak = int(np.where(h == np.amax(h))[0])\n",
    "        water = np.ones(nx)*rain*1.e-3*dx**2\n",
    "        # right of summit\n",
    "        for i in range(ipeak,nx-1):\n",
    "            #print(\"%4i %12.4f %12.4f %12.4f\" % (i,h[i],water[i]/dx/dx,xkc))\n",
    "            dh[i] = -xkc*atomic_mass/rhocalcite * water[i] / dx / dx * dtime\n",
    "            water[i+1] =water[i+1] + water[i]\n",
    "        # left of summit\n",
    "        for i in range(ipeak,0,-1):\n",
    "            #print(\"%4i %12.4f %12.4f %12.4f\" % (i,h[i],water[i]/dx/dx,xkc))\n",
    "            dh[i] = -xkc*atomic_mass/rhocalcite * water[i] / dx / dx * dtime\n",
    "            water[i-1] =water[i-1] + water[i]\n",
    "        \n",
    "        # apply denudation\n",
    "        h = h + dh\n",
    "        # save intermediate time step\n",
    "        if (time==save):\n",
    "            print(save)\n",
    "            isave = isave + 1\n",
    "            topo[isave,:] = h\n",
    "            tsave[isave]  = time\n",
    "            save = save + dtsave\n",
    "    return isave,tsave,topo\n",
    "\n",
    "isave,tsave,topo = denudation_loop(nx,dtime,dtsave,endtime,uplift,length,xkc[2],\n",
    "                                   atomic_mass,rhocalcite,rain,x,h,tsave,topo)"
   ]
  },
  {
   "cell_type": "code",
   "execution_count": null,
   "metadata": {},
   "outputs": [],
   "source": [
    "plt.figure(figsize=(12,6))\n",
    "plt.xlim([0,length/1000])\n",
    "plt.ylim([-10,1100])\n",
    "plt.xlabel('Profile [km]')\n",
    "plt.ylabel('Elevation [m]')\n",
    "plt.fill_between(x/1000,-10,topo[isave,:],color='gray',alpha=0.6,label=str(int(tsave[isave]/1000))+' ka')\n",
    "for i in range(isave-1):\n",
    "    plt.plot(x/1000,topo[i,:],color='black',linestyle='-',label=str(int(tsave[i]/1000))+' ka')\n",
    "plt.legend()"
   ]
  },
  {
   "cell_type": "markdown",
   "metadata": {},
   "source": [
    "----\n",
    "## Uplift, temporal evolution"
   ]
  },
  {
   "cell_type": "code",
   "execution_count": null,
   "metadata": {},
   "outputs": [],
   "source": [
    "endtime  = 5.e5            # yr          ! total runtime\n",
    "dtime    = 1.e2            # yr          ! time increment\n",
    "dtsave   = 1.e5            # yr          ! saving interval\n",
    "length   = 100.e3          # m           ! length of profile\n",
    "hmin     = 0.              # m           ! min. topography\n",
    "hmax     = 100.            # m           ! max. topography\n",
    "uplift   = 2.e-3           # m/s         ! uplift rate\n",
    "\n",
    "\n",
    "x,h,tsave,topo = denudation_init(nx,length,hmin,hmax)\n",
    "isave,tsave,topo = denudation_loop(nx,dtime,dtsave,endtime,uplift,length,xkc[0],\n",
    "                                   atomic_mass,rhocalcite,rain,x,h,tsave,topo)\n",
    "\n",
    "plt.figure(figsize=(12,6))\n",
    "plt.xlim([0,length/1000])\n",
    "plt.ylim([-10,1100])\n",
    "plt.xlabel('Profile [km]')\n",
    "plt.ylabel('Elevation [m]')\n",
    "plt.fill_between(x/1000,-10,topo[isave,:],color='gray',alpha=0.6,label=str(int(tsave[isave]/1000))+' ka')\n",
    "for i in range(isave-1):\n",
    "    plt.plot(x/1000,topo[i,:],color='black',linestyle='-',label=str(int(tsave[i]/1000))+' ka')\n",
    "plt.legend()"
   ]
  },
  {
   "cell_type": "markdown",
   "metadata": {},
   "source": [
    "... done"
   ]
  }
 ],
 "metadata": {
  "kernelspec": {
   "display_name": "Python 3 (ipykernel)",
   "language": "python",
   "name": "python3"
  },
  "language_info": {
   "codemirror_mode": {
    "name": "ipython",
    "version": 3
   },
   "file_extension": ".py",
   "mimetype": "text/x-python",
   "name": "python",
   "nbconvert_exporter": "python",
   "pygments_lexer": "ipython3",
   "version": "3.11.3"
  }
 },
 "nbformat": 4,
 "nbformat_minor": 4
}
